{
 "cells": [
  {
   "cell_type": "code",
   "execution_count": 1,
   "metadata": {},
   "outputs": [],
   "source": [
    "import h5py, torch, time, datetime, os\n",
    "import matplotlib.pyplot as plt\n",
    "from torch import nn\n",
    "from torch.nn.modules import Module\n",
    "from tabulate import tabulate\n",
    "import copy"
   ]
  },
  {
   "cell_type": "code",
   "execution_count": 13,
   "metadata": {},
   "outputs": [],
   "source": [
    "class OurModel(nn.Module):\n",
    "    def __init__(self, AR = [1, 3, 3, 1] , AF = 'ReLU', WC = 1 ):               \n",
    "        super(OurModel, self).__init__() \n",
    "        self.L1perUnit = WC\n",
    "        ValidActivationFunctions = {'ReLU': torch.relu, 'Sigmoid': torch.sigmoid}\n",
    "        try:\n",
    "            self.ActivationFunction = ValidActivationFunctions[AF]\n",
    "        except KeyError:\n",
    "            print('The activation function specified is not valid. Allowed activations are %s.'\n",
    "                 %str(list(ValidActivationFunctions.keys())))\n",
    "            print('Will use ReLU.')\n",
    "            self.ActivationFunction = torch.relu            \n",
    "        if type(AR) == list:\n",
    "            if( ( all(isinstance(n, int) for n in AR)) and ( AR[-1] == 1) ):\n",
    "                self.Architecture = AR\n",
    "            else:\n",
    "                print('Architecture should be a list of integers, the last one should be 1.')\n",
    "                raise ValueError             \n",
    "        else:\n",
    "            print('Architecture should be a list !')\n",
    "            raise ValueError\n",
    "\n",
    "### Define Layers\n",
    "        self.LinearLayerList  = nn.ModuleList([nn.Linear(self.Architecture[i], \n",
    "            self.Architecture[i+1]) for i in range(len(self.Architecture)-2)])\n",
    "        self.OutputLayer = nn.Linear(self.Architecture[-2], 1)       \n",
    "\n",
    "    def Forward(self, Data):\n",
    "### Forward Function. Performs Preprocessing, returns f = nn from -inf to +inf\n",
    "        # Checking that data has the right input dimension\n",
    "        InputDimension = self.Architecture[0]\n",
    "        if Data.size(1) != InputDimension:\n",
    "            print('Dimensions of the data and the network input mismatch: data: %d, model: %d'\n",
    "                  %(Data.size(1), InputDimension))\n",
    "            raise ValueError\n",
    "\n",
    "        # Checking that preprocess has been initialised\n",
    "        if not hasattr(self, 'Shift'):\n",
    "            print('Please initialize preprocess parameters!')\n",
    "            raise ValueError\n",
    "        with torch.no_grad(): \n",
    "            Data = self.Preprocess(Data)  \n",
    "        \n",
    "        x = Data\n",
    "        \n",
    "        for i, Layer in enumerate(self.LinearLayerList):\n",
    "            x = self.ActivationFunction(Layer(x)) \n",
    "        f = self.OutputLayer(x).squeeze()\n",
    "          \n",
    "        return f.view(-1, 1)\n",
    "    \n",
    "    def ClipL1Norm(self):\n",
    "### Clip the weights      \n",
    "        def ClipL1NormLayer(DesignatedL1Max, Layer, Counter):\n",
    "            if Counter == 1:\n",
    "                ### this avoids clipping the first layer\n",
    "                return\n",
    "            L1 = Layer.weight.abs().sum()\n",
    "            Layer.weight.masked_scatter_(L1 > DesignatedL1Max, \n",
    "                                        Layer.weight*(DesignatedL1Max/L1))\n",
    "            return\n",
    "        \n",
    "        Counter = 0\n",
    "        for m in self.children():\n",
    "            if isinstance(m, nn.Linear):\n",
    "                Counter += 1\n",
    "                with torch.no_grad():\n",
    "                    DesignatedL1Max = m.weight.size(0)*m.weight.size(1)*self.L1perUnit\n",
    "                    ClipL1NormLayer(DesignatedL1Max, m, Counter)\n",
    "            else:\n",
    "                for mm in m:\n",
    "                    Counter +=1\n",
    "                    with torch.no_grad():\n",
    "                        DesignatedL1Max = mm.weight.size(0)*mm.weight.size(1)*self.L1perUnit\n",
    "                        ClipL1NormLayer(DesignatedL1Max, mm, Counter)\n",
    "        return \n",
    "    \n",
    "    def InitPreprocess(self, Data):\n",
    "### This can be run only ONCE to initialize the preprocess (shift and scaling) parameters\n",
    "### Takes as input the training Data and the training Parameters as Torch tensors.\n",
    "        if not hasattr(self, 'Scaling'):\n",
    "            print('\\nInitializing Preprocesses Variables')\n",
    "            self.Scaling = Data.std(0)\n",
    "            self.Shift = Data.mean(0) \n",
    "        else: print('Preprocess can be initialized only once. Parameters unchanged.')\n",
    "            \n",
    "    def Preprocess(self, Data):\n",
    "### Returns scaled/shifted data and parameters\n",
    "### Takes as input Data and Parameters as Torch tensors.\n",
    "        if  not hasattr(self, 'Scaling'): print('Preprocess parameters are not initialized.')\n",
    "        Data = (Data - self.Shift)/self.Scaling\n",
    "        return Data\n",
    "    \n",
    "    def Report(self): ### is it possibe to check if the model is in double?\n",
    "        print('\\nModel Report:')\n",
    "        print('Preprocess Initialized: ' + str(hasattr(self, 'Shift')))\n",
    "        print('Architecture: ' + str(self.Architecture))\n",
    "        print('Activation: ' + str(self.ActivationFunction))\n",
    "        \n",
    "    def cuda(self):\n",
    "        nn.Module.cuda(self)\n",
    "        self.Shift = self.Shift.cuda()\n",
    "        self.Scaling = self.Scaling.cuda()\n",
    "        \n",
    "    def cpu(self):\n",
    "        self.Shift = self.Shift.cpu()\n",
    "        self.Scaling = self.Scaling.cpu()\n",
    "        return nn.Module.cpu(self)\n",
    "\n",
    "def OurCudaTensor(input):\n",
    "    output = copy.deepcopy(input)\n",
    "    output = output.cuda()\n",
    "    return output\n",
    "\n",
    "class DataFile():\n",
    "### Reads sample file Info (string), Parameters (list), Values (torch array), Data (torch array) and Weights (torch array)\n",
    "### FilePath is the path of the input file\n",
    "### Computes cross-section XS (average weight) and total number of data ND in file\n",
    "### Checks that files are in correct format (correct Keys)\n",
    "### and that the length of Parameters and Data equals the one of Values and Weights respectively\n",
    "    def __init__(self, FilePath, verbose=True):\n",
    "        if verbose: print('\\nReading file ...' + FilePath)\n",
    "        file = h5py.File(FilePath, 'r')\n",
    "        if list(file.keys()) == ['Data']:\n",
    "            self.FilePath = FilePath\n",
    "            self.Data = torch.DoubleTensor(file['Data'][()])\n",
    "            self.ND = len(self.Data)\n",
    "        else:\n",
    "            print('--> File format not valid:\\nKeys: ' + str(list(file.keys())) + \n",
    "                  '\\nshould be: ' + str(['Data']))\n",
    "            raise ValueError\n",
    "            \n",
    "class OurTrainer(nn.Module):\n",
    "### Contains all parameters for training: Loss Function, Optimiser, NumberOfEpochs, InitialLearningRate \n",
    "    def __init__(self, ExpinRefModel, LearningRate = 1e-3, Optimiser = 'Adam', NumEpochs = 100):\n",
    "        super(OurTrainer, self).__init__() \n",
    "        self.ExpinR = ExpinRefModel\n",
    "        self.NumberOfEpochs = NumEpochs\n",
    "        self.InitialLearningRate = LearningRate\n",
    "        ValidOptimizers = {'Adam': torch.optim.Adam, 'SGD': torch.optim.SGD}\n",
    "        self.Criterion = MLLoss()\n",
    "        try:\n",
    "            self.Optimiser =  ValidOptimizers[Optimiser]\n",
    "        except KeyError:\n",
    "            print('The specified optimiser is not valid. Allowed optimisers are %s.'\n",
    "                 %str(list(ValidOptimisers)))\n",
    "            print('Will use Adam.')    \n",
    "            \n",
    "    def Train(self, modelIN, Data0IN, Data1IN, L1perUnit=None, \n",
    "              UseGPU=True, Name=\"\", Folder=os.getcwd()):\n",
    "\n",
    "        if UseGPU: \n",
    "            model = copy.deepcopy(modelIN)\n",
    "            model.cuda()\n",
    "            Data0 = OurCudaTensor(Data0IN)\n",
    "            Data1 = OurCudaTensor(Data1IN)\n",
    "        else:\n",
    "            model = modelIN\n",
    "            Data0 = Data0IN\n",
    "            Data1 = Data1IN\n",
    "            \n",
    "        Optimiser = self.Optimiser(model.parameters(), self.InitialLearningRate)\n",
    "        \n",
    "                    \n",
    "        Optimiser = self.Optimiser(model.parameters(), self.InitialLearningRate, amsgrad=False)\n",
    "        #Optimiser = torch.optim.Adagrad(model.parameters())\n",
    "        #Optimiser = torch.optim.AdamW(model.parameters())\n",
    "        #Optimiser = torch.optim.Adadelta(model.parameters())\n",
    "        Optimiser = torch.optim.Adamax(model.parameters()) ## Good on sameple 11\n",
    "        #scheduler = torch.optim.lr_scheduler.StepLR(Optimiser, step_size=50, gamma=.2)\n",
    "        #scheduler = torch.optim.lr_scheduler.ReduceLROnPlateau(Optimiser, factor=.1, patience=10, verbose = True,\n",
    "                             #threshold=1, threshold_mode='rel', cooldown=0, min_lr=0, eps=1e-08)\n",
    "        \n",
    "        thistory = []\n",
    "        ehistory = []\n",
    "        for e in range(self.NumberOfEpochs):\n",
    "            #print(\"epoch\")\n",
    "            Optimiser.zero_grad()\n",
    "            output0          = model.Forward(Data0)\n",
    "            output1          = model.Forward(Data1)\n",
    "            loss            = self.Criterion(output0, output1, self.ExpinR)\n",
    "            print (\"t = \" + str(-2.*loss.item()) +  \" at epoch = \" + str(e), end='\\r')\n",
    "            ehistory.append(e)\n",
    "            thistory.append(-2.*loss.item())\n",
    "            loss.backward()\n",
    "            Optimiser.step()\n",
    "            model.ClipL1Norm()\n",
    "        return ehistory, thistory\n",
    "    \n",
    "####### Loss function\n",
    "from torch.nn.modules.loss import _Loss\n",
    "class MLLoss(_Loss):\n",
    "    __constants__ = ['reduction']\n",
    "        \n",
    "    def __init__(self, size_average=None, reduce=None, reduction='mean'):\n",
    "        super(MLLoss, self).__init__(size_average, reduce, reduction)\n",
    "    def forward(self, input0, input1, ExpinR):\n",
    "        ExpoverR = ExpinR/input0.size()[0]\n",
    "        return torch.sum(ExpoverR*(torch.exp(input0) - 1.)) - torch.sum(input1)"
   ]
  },
  {
   "cell_type": "code",
   "execution_count": 14,
   "metadata": {},
   "outputs": [
    {
     "name": "stdout",
     "output_type": "stream",
     "text": [
      "\n",
      "Reading file ...Reference_sample/1.h5\n",
      "\n",
      "Reading file ...BSM_toys/11.h5\n",
      "\n",
      "Reference data lenght =  200000\n",
      "\n",
      "Initializing Preprocesses Variables\n",
      "\n",
      "Model Report:\n",
      "Preprocess Initialized: True\n",
      "Architecture: [1, 4, 1]\n",
      "Activation: <built-in method sigmoid of type object at 0x1186f7ad0>\n",
      "t = 5.109252537208732 at epoch = 999809\r"
     ]
    },
    {
     "data": {
      "text/plain": [
       "[<matplotlib.lines.Line2D at 0x1207d0750>]"
      ]
     },
     "execution_count": 14,
     "metadata": {},
     "output_type": "execute_result"
    },
    {
     "data": {
      "image/png": "[encoded data removed]",
      "text/plain": [
       "<Figure size 432x288 with 1 Axes>"
      ]
     },
     "metadata": {
      "needs_background": "light"
     },
     "output_type": "display_data"
    }
   ],
   "source": [
    "torch.manual_seed(0)\n",
    "RF = DataFile('Reference_sample/1.h5')\n",
    "DF = DataFile('BSM_toys/11.h5')\n",
    "Nexp = 2000.\n",
    "NReftotal = RF.Data.size()[0]\n",
    "print('\\nReference data lenght = ', NReftotal)\n",
    "MD = OurModel(AR = [1, 4, 1], AF = 'Sigmoid' )\n",
    "MD.double()\n",
    "MD.InitPreprocess(torch.cat([RF.Data, DF.Data]))\n",
    "MD.Report()\n",
    "MT = OurTrainer(Nexp, NumEpochs = 1000, LearningRate = 1e-3, Optimiser = 'Adam')\n",
    "start = time.time()\n",
    "epoch, t = MT.Train(MD, RF.Data, DF.Data, UseGPU = False)\n",
    "plt.axis([0, max(epoch), 0, max(t)])\n",
    "plt.plot(epoch,t)"
   ]
  },
  {
   "cell_type": "code",
   "execution_count": 9,
   "metadata": {},
   "outputs": [
    {
     "name": "stdout",
     "output_type": "stream",
     "text": [
      "\n",
      "Reading file ...Reference_sample/2.h5\n",
      "\n",
      "Reading file ...SM_toys/11.h5\n",
      "\n",
      "Reference data lenght =  400000\n"
     ]
    },
    {
     "ename": "NameError",
     "evalue": "name 'TrainingDataSample' is not defined",
     "output_type": "error",
     "traceback": [
      "\u001b[0;31m---------------------------------------------------------------------------\u001b[0m",
      "\u001b[0;31mNameError\u001b[0m                                 Traceback (most recent call last)",
      "\u001b[0;32m<ipython-input-9-fdb1096a7f32>\u001b[0m in \u001b[0;36m<module>\u001b[0;34m\u001b[0m\n\u001b[1;32m      6\u001b[0m \u001b[0mNRef\u001b[0m \u001b[0;34m=\u001b[0m \u001b[0mRF\u001b[0m\u001b[0;34m.\u001b[0m\u001b[0mData\u001b[0m\u001b[0;34m.\u001b[0m\u001b[0msize\u001b[0m\u001b[0;34m(\u001b[0m\u001b[0;34m)\u001b[0m\u001b[0;34m[\u001b[0m\u001b[0;36m0\u001b[0m\u001b[0;34m]\u001b[0m\u001b[0;34m\u001b[0m\u001b[0;34m\u001b[0m\u001b[0m\n\u001b[1;32m      7\u001b[0m \u001b[0mprint\u001b[0m\u001b[0;34m(\u001b[0m\u001b[0;34m'\\nReference data lenght = '\u001b[0m\u001b[0;34m,\u001b[0m \u001b[0mNRef\u001b[0m\u001b[0;34m)\u001b[0m\u001b[0;34m\u001b[0m\u001b[0;34m\u001b[0m\u001b[0m\n\u001b[0;32m----> 8\u001b[0;31m \u001b[0mTData\u001b[0m\u001b[0;34m,\u001b[0m \u001b[0mTLabels\u001b[0m \u001b[0;34m=\u001b[0m \u001b[0mTrainingDataSample\u001b[0m\u001b[0;34m(\u001b[0m\u001b[0mRF\u001b[0m\u001b[0;34m.\u001b[0m\u001b[0mData\u001b[0m\u001b[0;34m,\u001b[0m \u001b[0mDF\u001b[0m\u001b[0;34m.\u001b[0m\u001b[0mData\u001b[0m\u001b[0;34m)\u001b[0m\u001b[0;34m\u001b[0m\u001b[0;34m\u001b[0m\u001b[0m\n\u001b[0m\u001b[1;32m      9\u001b[0m \u001b[0mprint\u001b[0m\u001b[0;34m(\u001b[0m\u001b[0;34m'\\nTotal number of training points  = '\u001b[0m\u001b[0;34m,\u001b[0m \u001b[0mTData\u001b[0m\u001b[0;34m.\u001b[0m\u001b[0msize\u001b[0m\u001b[0;34m(\u001b[0m\u001b[0;36m0\u001b[0m\u001b[0;34m)\u001b[0m\u001b[0;34m)\u001b[0m\u001b[0;34m\u001b[0m\u001b[0;34m\u001b[0m\u001b[0m\n\u001b[1;32m     10\u001b[0m \u001b[0mMD\u001b[0m \u001b[0;34m=\u001b[0m \u001b[0mOurModel\u001b[0m\u001b[0;34m(\u001b[0m\u001b[0mAR\u001b[0m \u001b[0;34m=\u001b[0m \u001b[0;34m[\u001b[0m\u001b[0;36m1\u001b[0m\u001b[0;34m,\u001b[0m \u001b[0;36m4\u001b[0m\u001b[0;34m,\u001b[0m \u001b[0;36m1\u001b[0m\u001b[0;34m]\u001b[0m\u001b[0;34m,\u001b[0m \u001b[0mAF\u001b[0m \u001b[0;34m=\u001b[0m \u001b[0;34m'Sigmoid'\u001b[0m \u001b[0;34m,\u001b[0m \u001b[0mWC\u001b[0m \u001b[0;34m=\u001b[0m \u001b[0;36m100\u001b[0m\u001b[0;34m)\u001b[0m\u001b[0;34m\u001b[0m\u001b[0;34m\u001b[0m\u001b[0m\n",
      "\u001b[0;31mNameError\u001b[0m: name 'TrainingDataSample' is not defined"
     ]
    }
   ],
   "source": [
    "## GPU with more data\n",
    "torch.manual_seed(0)\n",
    "RF = DataFile('Reference_sample/2.h5')\n",
    "DF = DataFile('SM_toys/11.h5')\n",
    "Nexp = 2000.\n",
    "NRef = RF.Data.size()[0]\n",
    "print('\\nReference data lenght = ', NRef)\n",
    "TData, TLabels = TrainingDataSample(RF.Data, DF.Data)\n",
    "print('\\nTotal number of training points  = ', TData.size(0))\n",
    "MD = OurModel(AR = [1, 4, 1], AF = 'Sigmoid' , WC = 100)\n",
    "MD.double()\n",
    "MD.InitPreprocess(TData)\n",
    "MD.Report()\n",
    "MT = OurTrainer(Nexp/NRef, NumEpochs = 10000, LearningRate = 1e-3, Optimiser = 'Adam')\n",
    "start = time.time()\n",
    "epoch, t = MT.Train(MD, TData, TLabels, UseGPU = True)\n",
    "print('Training time = ' + str((time.time()-start)))\n",
    "plt.axis([0, max(epoch), 0, max(t)])\n",
    "plt.plot(epoch,t)"
   ]
  },
  {
   "cell_type": "code",
   "execution_count": 4,
   "metadata": {},
   "outputs": [
    {
     "name": "stdout",
     "output_type": "stream",
     "text": [
      "\n",
      "Reading file ...Reference_sample/1.h5\n",
      "\n",
      "Reading file ...SM_toys/11.h5\n",
      "\n",
      "Reference data lenght =  200000\n",
      "\n",
      "Total number of training points  =  202029\n",
      "\n",
      "Initializing Preprocesses Variables\n",
      "\n",
      "Model Report:\n",
      "Preprocess Initialized: True\n",
      "Architecture: [1, 4, 1]\n",
      "Activation: <built-in method sigmoid of type object at 0x7ff247514c40>\n",
      "Training time = 114.30339312553406999983\n"
     ]
    },
    {
     "data": {
      "text/plain": [
       "[<matplotlib.lines.Line2D at 0x7ff2101effd0>]"
      ]
     },
     "execution_count": 4,
     "metadata": {},
     "output_type": "execute_result"
    },
    {
     "data": {
      "image/png": "[encoded data removed]",
      "text/plain": [
       "<Figure size 432x288 with 1 Axes>"
      ]
     },
     "metadata": {
      "needs_background": "light"
     },
     "output_type": "display_data"
    }
   ],
   "source": [
    "## GPU\n",
    "torch.manual_seed(0)\n",
    "RF = DataFile('Reference_sample/1.h5')\n",
    "DF = DataFile('SM_toys/11.h5')\n",
    "Nexp = 2000.\n",
    "NRef = RF.Data.size()[0]\n",
    "print('\\nReference data lenght = ', NRef)\n",
    "TData, TLabels = TrainingDataSample(RF.Data, DF.Data)\n",
    "print('\\nTotal number of training points  = ', TData.size(0))\n",
    "MD = OurModel(AR = [1, 4, 1], AF = 'Sigmoid' , WC = 100)\n",
    "MD.double()\n",
    "MD.InitPreprocess(TData)\n",
    "MD.Report()\n",
    "MT = OurTrainer(Nexp/NRef, NumEpochs = 10000, LearningRate = 1e-3, Optimiser = 'Adam')\n",
    "start = time.time()\n",
    "epoch, t = MT.Train(MD, TData, TLabels, UseGPU = True)\n",
    "print('Training time = ' + str((time.time()-start)))\n",
    "plt.axis([0, max(epoch), 0, max(t)])\n",
    "plt.plot(epoch,t)"
   ]
  },
  {
   "cell_type": "code",
   "execution_count": 3,
   "metadata": {},
   "outputs": [
    {
     "name": "stdout",
     "output_type": "stream",
     "text": [
      "\n",
      "Reading file ...Reference_sample/1.h5\n",
      "\n",
      "Reading file ...SM_toys/11.h5\n",
      "\n",
      "Reference data lenght =  200000\n",
      "\n",
      "Total number of training points  =  202029\n",
      "\n",
      "Initializing Preprocesses Variables\n",
      "\n",
      "Model Report:\n",
      "Preprocess Initialized: True\n",
      "Architecture: [1, 4, 1]\n",
      "Activation: <built-in method sigmoid of type object at 0x7ff247514c40>\n",
      "Training time = 142.20874357223519999742\n"
     ]
    },
    {
     "data": {
      "text/plain": [
       "[<matplotlib.lines.Line2D at 0x7ff2104a7e50>]"
      ]
     },
     "execution_count": 3,
     "metadata": {},
     "output_type": "execute_result"
    },
    {
     "data": {
      "image/png": "[encoded data removed]",
      "text/plain": [
       "<Figure size 432x288 with 1 Axes>"
      ]
     },
     "metadata": {
      "needs_background": "light"
     },
     "output_type": "display_data"
    }
   ],
   "source": [
    "## CPU\n",
    "torch.manual_seed(0)\n",
    "RF = DataFile('Reference_sample/1.h5')\n",
    "DF = DataFile('SM_toys/11.h5')\n",
    "Nexp = 2000.\n",
    "NRef = RF.Data.size()[0]\n",
    "print('\\nReference data lenght = ', NRef)\n",
    "TData, TLabels = TrainingDataSample(RF.Data, DF.Data)\n",
    "print('\\nTotal number of training points  = ', TData.size(0))\n",
    "MD = OurModel(AR = [1, 4, 1], AF = 'Sigmoid' , WC = 100)\n",
    "MD.double()\n",
    "MD.InitPreprocess(TData)\n",
    "MD.Report()\n",
    "MT = OurTrainer(Nexp/NRef, NumEpochs = 10000, LearningRate = 1e-3, Optimiser = 'Adam')\n",
    "start = time.time()\n",
    "epoch, t = MT.Train(MD, TData, TLabels, UseGPU = False)\n",
    "print('Training time = ' + str((time.time()-start)))\n",
    "plt.axis([0, max(epoch), 0, max(t)])\n",
    "plt.plot(epoch,t)"
   ]
  },
  {
   "cell_type": "code",
   "execution_count": 125,
   "metadata": {},
   "outputs": [
    {
     "name": "stdout",
     "output_type": "stream",
     "text": [
      "\n",
      "Reading file ...Reference_sample/1.h5\n",
      "\n",
      "Reading file ...SM_toys/11.h5\n",
      "\n",
      "Reference data lenght =  200000\n",
      "\n",
      "Total number of training points  =  202029\n",
      "\n",
      "Initializing Preprocesses Variables\n",
      "\n",
      "Model Report:\n",
      "Preprocess Initialized: True\n",
      "Architecture: [1, 4, 1]\n",
      "Activation: <built-in method sigmoid of type object at 0x7f340375fc40>\n",
      "Training time = 515.0609629154205 999992\n"
     ]
    },
    {
     "data": {
      "text/plain": [
       "[<matplotlib.lines.Line2D at 0x7f337c774250>]"
      ]
     },
     "execution_count": 125,
     "metadata": {},
     "output_type": "execute_result"
    },
    {
     "data": {
      "image/png": "[encoded data removed]",
      "text/plain": [
       "<Figure size 432x288 with 1 Axes>"
      ]
     },
     "metadata": {
      "needs_background": "light"
     },
     "output_type": "display_data"
    }
   ],
   "source": [
    "## With ADAM\n",
    "torch.manual_seed(0)\n",
    "RF = DataFile('Reference_sample/1.h5')\n",
    "DF = DataFile('SM_toys/11.h5')\n",
    "Nexp = 2000.\n",
    "NRef = RF.Data.size()[0]\n",
    "print('\\nReference data lenght = ', NRef)\n",
    "TData, TLabels = TrainingDataSample(RF.Data, DF.Data)\n",
    "print('\\nTotal number of training points  = ', TData.size(0))\n",
    "MD = OurModel(AR = [1, 4, 1], AF = 'Sigmoid' , WC = 100)\n",
    "MD.double()\n",
    "MD.InitPreprocess(TData)\n",
    "MD.Report()\n",
    "MT = OurTrainer(Nexp/NRef, NumEpochs = 100000, LearningRate = 1e-3, Optimiser = 'Adam')\n",
    "start = time.time()\n",
    "epoch, t = MT.Train(MD, TData, TLabels, UseGPU = True)\n",
    "print('Training time = ' + str((time.time()-start)))\n",
    "plt.axis([0, max(epoch), 0, max(t)])\n",
    "plt.plot(epoch,t)"
   ]
  },
  {
   "cell_type": "code",
   "execution_count": 126,
   "metadata": {},
   "outputs": [
    {
     "name": "stdout",
     "output_type": "stream",
     "text": [
      "\n",
      "Reading file ...Reference_sample/1.h5\n",
      "\n",
      "Reading file ...SM_toys/11.h5\n",
      "\n",
      "Reference data lenght =  200000\n",
      "\n",
      "Total number of training points  =  202029\n",
      "\n",
      "Initializing Preprocesses Variables\n",
      "\n",
      "Model Report:\n",
      "Preprocess Initialized: True\n",
      "Architecture: [1, 4, 1]\n",
      "Activation: <built-in method sigmoid of type object at 0x7f340375fc40>\n",
      "Training time = 516.690776348114= 999992\n"
     ]
    },
    {
     "data": {
      "text/plain": [
       "[<matplotlib.lines.Line2D at 0x7f339c0b6dd0>]"
      ]
     },
     "execution_count": 126,
     "metadata": {},
     "output_type": "execute_result"
    },
    {
     "data": {
      "image/png": "[encoded data removed]",
      "text/plain": [
       "<Figure size 432x288 with 1 Axes>"
      ]
     },
     "metadata": {
      "needs_background": "light"
     },
     "output_type": "display_data"
    }
   ],
   "source": [
    "## With ADAMAX\n",
    "torch.manual_seed(0)\n",
    "RF = DataFile('Reference_sample/1.h5')\n",
    "DF = DataFile('SM_toys/11.h5')\n",
    "Nexp = 2000.\n",
    "NRef = RF.Data.size()[0]\n",
    "print('\\nReference data lenght = ', NRef)\n",
    "TData, TLabels = TrainingDataSample(RF.Data, DF.Data)\n",
    "print('\\nTotal number of training points  = ', TData.size(0))\n",
    "MD = OurModel(AR = [1, 4, 1], AF = 'Sigmoid' , WC = 100)\n",
    "MD.double()\n",
    "MD.InitPreprocess(TData)\n",
    "MD.Report()\n",
    "MT = OurTrainer(Nexp/NRef, NumEpochs = 100000, LearningRate = 1e-3, Optimiser = 'Adam')\n",
    "start = time.time()\n",
    "epoch, t = MT.Train(MD, TData, TLabels, UseGPU = True)\n",
    "print('Training time = ' + str((time.time()-start)))\n",
    "plt.axis([0, max(epoch), 0, max(t)])\n",
    "plt.plot(epoch,t)"
   ]
  },
  {
   "cell_type": "code",
   "execution_count": 130,
   "metadata": {},
   "outputs": [
    {
     "name": "stdout",
     "output_type": "stream",
     "text": [
      "\n",
      "Reading file ...Reference_sample/1.h5\n",
      "\n",
      "Reading file ...SM_toys/11.h5\n",
      "\n",
      "Reference data lenght =  200000\n",
      "\n",
      "Total number of training points  =  202029\n",
      "\n",
      "Initializing Preprocesses Variables\n",
      "\n",
      "Model Report:\n",
      "Preprocess Initialized: True\n",
      "Architecture: [1, 4, 1]\n",
      "Activation: <built-in method sigmoid of type object at 0x7f340375fc40>\n",
      "10.6514481030531563156 at epoch = 99999\n",
      "Training time = 474.8793168067932\n"
     ]
    },
    {
     "data": {
      "text/plain": [
       "[<matplotlib.lines.Line2D at 0x7f33387aeb10>]"
      ]
     },
     "execution_count": 130,
     "metadata": {},
     "output_type": "execute_result"
    },
    {
     "data": {
      "image/png": "[encoded data removed]",
      "text/plain": [
       "<Figure size 432x288 with 1 Axes>"
      ]
     },
     "metadata": {
      "needs_background": "light"
     },
     "output_type": "display_data"
    }
   ],
   "source": [
    "## With ADAM, Train1\n",
    "torch.manual_seed(0)\n",
    "RF = DataFile('Reference_sample/1.h5')\n",
    "DF = DataFile('SM_toys/11.h5')\n",
    "Nexp = 2000.\n",
    "NRef = RF.Data.size()[0]\n",
    "print('\\nReference data lenght = ', NRef)\n",
    "TData, TLabels = TrainingDataSample(RF.Data, DF.Data)\n",
    "print('\\nTotal number of training points  = ', TData.size(0))\n",
    "MD = OurModel(AR = [1, 4, 1], AF = 'Sigmoid' , WC = 100)\n",
    "MD.double()\n",
    "MD.InitPreprocess(TData)\n",
    "MD.Report()\n",
    "MT = OurTrainer(Nexp/NRef, NumEpochs = 100000, LearningRate = 1e-3, Optimiser = 'Adam')\n",
    "start = time.time()\n",
    "epoch, t = MT.Train1(MD, TData, TLabels, UseGPU = True)\n",
    "print('Training time = ' + str((time.time()-start)))\n",
    "plt.axis([0, max(epoch), 0, max(t)])\n",
    "plt.plot(epoch,t)"
   ]
  },
  {
   "cell_type": "code",
   "execution_count": 83,
   "metadata": {},
   "outputs": [
    {
     "name": "stdout",
     "output_type": "stream",
     "text": [
      "\n",
      "Reading file ...Reference_sample/1.h5\n",
      "\n",
      "Reading file ...SM_toys/4.h5\n",
      "\n",
      "Reference data lenght =  200000\n",
      "\n",
      "Total number of training points  =  201965\n",
      "\n",
      "Initializing Preprocesses Variables\n",
      "\n",
      "Model Report:\n",
      "Preprocess Initialized: True\n",
      "Architecture: [1, 4, 1]\n",
      "Activation: <built-in method sigmoid of type object at 0x7f340375fc40>\n",
      "300\n",
      "0.7708561555250668\n",
      "500\n",
      "0.006371840149007824\n",
      "52500\n",
      "0.0010556146599327576\n",
      "82400\n",
      "0.0006677851084226916\n",
      "12.388448409832773\n",
      "Training time = 434.3195540904999\n"
     ]
    },
    {
     "data": {
      "text/plain": [
       "[<matplotlib.lines.Line2D at 0x7f33cc91cdd0>]"
      ]
     },
     "execution_count": 83,
     "metadata": {},
     "output_type": "execute_result"
    },
    {
     "data": {
      "image/png": "[encoded data removed]",
      "text/plain": [
       "<Figure size 432x288 with 1 Axes>"
      ]
     },
     "metadata": {
      "needs_background": "light"
     },
     "output_type": "display_data"
    }
   ],
   "source": [
    "torch.manual_seed(0)\n",
    "RF = DataFile('Reference_sample/1.h5')\n",
    "DF = DataFile('SM_toys/4.h5')\n",
    "Nexp = 2000.\n",
    "NRef = RF.Data.size()[0]\n",
    "print('\\nReference data lenght = ', NRef)\n",
    "TData, TLabels = TrainingDataSample(RF.Data, DF.Data)\n",
    "print('\\nTotal number of training points  = ', TData.size(0))\n",
    "MD = OurModel(AR = [1, 4, 1], AF = 'Sigmoid' , WC = 100)\n",
    "MD.double()\n",
    "MD.InitPreprocess(TData)\n",
    "MD.Report()\n",
    "MT = OurTrainer(Nexp/NRef, NumEpochs = 100000, LearningRate = 1e-3, Optimiser = 'Adam')\n",
    "start = time.time()\n",
    "epoch, t = MT.Train1(MD, TData, TLabels, UseGPU = True)\n",
    "print('Training time = ' + str((time.time()-start)))\n",
    "plt.axis([0, max(epoch), 0, max(t)])\n",
    "plt.plot(epoch,t)"
   ]
  },
  {
   "cell_type": "code",
   "execution_count": 135,
   "metadata": {},
   "outputs": [
    {
     "name": "stdout",
     "output_type": "stream",
     "text": [
      "\n",
      "Reading file ...Reference_sample/1.h5\n",
      "\n",
      "Reading file ...SM_toys/4.h5\n",
      "\n",
      "Reference data lenght =  200000\n",
      "\n",
      "Total number of training points  =  201965\n",
      "\n",
      "Initializing Preprocesses Variables\n",
      "\n",
      "Model Report:\n",
      "Preprocess Initialized: True\n",
      "Architecture: [1, 4, 1]\n",
      "Activation: <built-in method sigmoid of type object at 0x7f340375fc40>\n",
      "Training time = 265.02531886100779999621\n"
     ]
    },
    {
     "data": {
      "text/plain": [
       "[<matplotlib.lines.Line2D at 0x7f3328e2aad0>]"
      ]
     },
     "execution_count": 135,
     "metadata": {},
     "output_type": "execute_result"
    },
    {
     "data": {
      "image/png": "[encoded data removed]",
      "text/plain": [
       "<Figure size 432x288 with 1 Axes>"
      ]
     },
     "metadata": {
      "needs_background": "light"
     },
     "output_type": "display_data"
    }
   ],
   "source": [
    "torch.manual_seed(0)\n",
    "RF = DataFile('Reference_sample/1.h5')\n",
    "DF = DataFile('SM_toys/4.h5')\n",
    "Nexp = 2000.\n",
    "NRef = RF.Data[:200000].size()[0]\n",
    "print('\\nReference data lenght = ', NRef)\n",
    "TData, TLabels = TrainingDataSample(RF.Data[:200000], DF.Data)\n",
    "print('\\nTotal number of training points  = ', TData.size(0))\n",
    "MD = OurModel(AR = [1, 4, 1], AF = 'Sigmoid' , WC = 100)\n",
    "MD.double()\n",
    "MD.InitPreprocess(TData)\n",
    "MD.Report()\n",
    "MT = OurTrainer(Nexp/NRef, NumEpochs = 10000, LearningRate = 1e-3, Optimiser = 'Adam')\n",
    "start = time.time()\n",
    "epoch, t = MT.Train(MD, TData, TLabels, UseGPU = False)\n",
    "print('Training time = ' + str((time.time()-start)))\n",
    "plt.axis([0, max(epoch), 0, max(t)])\n",
    "plt.plot(epoch,t)"
   ]
  },
  {
   "cell_type": "code",
   "execution_count": 137,
   "metadata": {},
   "outputs": [
    {
     "name": "stdout",
     "output_type": "stream",
     "text": [
      "Number of processors:  32\n"
     ]
    }
   ],
   "source": [
    "import multiprocessing as mp\n",
    "print(\"Number of processors: \", mp.cpu_count())"
   ]
  },
  {
   "cell_type": "code",
   "execution_count": 143,
   "metadata": {},
   "outputs": [
    {
     "name": "stdout",
     "output_type": "stream",
     "text": [
      "0\n",
      "1\n",
      "2\n",
      "3\n",
      "4\n",
      "5\n",
      "6\n",
      "7\n",
      "8\n",
      "9\n"
     ]
    }
   ],
   "source": [
    "for i in range(10): print(i)"
   ]
  },
  {
   "cell_type": "code",
   "execution_count": 170,
   "metadata": {},
   "outputs": [
    {
     "ename": "KeyboardInterrupt",
     "evalue": "",
     "output_type": "error",
     "traceback": [
      "\u001b[0;31m---------------------------------------------------------------------------\u001b[0m",
      "\u001b[0;31mKeyboardInterrupt\u001b[0m                         Traceback (most recent call last)",
      "\u001b[0;32m<ipython-input-170-17b105e4e181>\u001b[0m in \u001b[0;36m<module>\u001b[0;34m\u001b[0m\n\u001b[1;32m     15\u001b[0m \u001b[0;32mwith\u001b[0m \u001b[0mctx\u001b[0m\u001b[0;34m.\u001b[0m\u001b[0mPool\u001b[0m\u001b[0;34m(\u001b[0m\u001b[0mmp\u001b[0m\u001b[0;34m.\u001b[0m\u001b[0mcpu_count\u001b[0m\u001b[0;34m(\u001b[0m\u001b[0;34m)\u001b[0m\u001b[0;34m)\u001b[0m \u001b[0;32mas\u001b[0m \u001b[0mpool\u001b[0m\u001b[0;34m:\u001b[0m\u001b[0;34m\u001b[0m\u001b[0;34m\u001b[0m\u001b[0m\n\u001b[0;32m---> 16\u001b[0;31m     \u001b[0mres\u001b[0m \u001b[0;34m=\u001b[0m \u001b[0mpool\u001b[0m\u001b[0;34m.\u001b[0m\u001b[0mmap\u001b[0m\u001b[0;34m(\u001b[0m\u001b[0mf\u001b[0m\u001b[0;34m,\u001b[0m \u001b[0;34m[\u001b[0m\u001b[0mi\u001b[0m \u001b[0;32mfor\u001b[0m \u001b[0mi\u001b[0m \u001b[0;32min\u001b[0m \u001b[0mrange\u001b[0m\u001b[0;34m(\u001b[0m\u001b[0;36m1\u001b[0m\u001b[0;34m)\u001b[0m\u001b[0;34m]\u001b[0m\u001b[0;34m)\u001b[0m\u001b[0;34m\u001b[0m\u001b[0;34m\u001b[0m\u001b[0m\n\u001b[0m\u001b[1;32m     17\u001b[0m \u001b[0mprint\u001b[0m\u001b[0;34m(\u001b[0m\u001b[0;34m'Training time = '\u001b[0m \u001b[0;34m+\u001b[0m \u001b[0mstr\u001b[0m\u001b[0;34m(\u001b[0m\u001b[0;34m(\u001b[0m\u001b[0mtime\u001b[0m\u001b[0;34m.\u001b[0m\u001b[0mtime\u001b[0m\u001b[0;34m(\u001b[0m\u001b[0;34m)\u001b[0m\u001b[0;34m-\u001b[0m\u001b[0mstart\u001b[0m\u001b[0;34m)\u001b[0m\u001b[0;34m)\u001b[0m\u001b[0;34m)\u001b[0m\u001b[0;34m\u001b[0m\u001b[0;34m\u001b[0m\u001b[0m\n",
      "\u001b[0;32m~/Desktop/Anaconda/anaconda3/lib/python3.7/multiprocessing/pool.py\u001b[0m in \u001b[0;36mmap\u001b[0;34m(self, func, iterable, chunksize)\u001b[0m\n\u001b[1;32m    267\u001b[0m         '''\n\u001b[0;32m--> 268\u001b[0;31m         \u001b[0;32mreturn\u001b[0m \u001b[0mself\u001b[0m\u001b[0;34m.\u001b[0m\u001b[0m_map_async\u001b[0m\u001b[0;34m(\u001b[0m\u001b[0mfunc\u001b[0m\u001b[0;34m,\u001b[0m \u001b[0miterable\u001b[0m\u001b[0;34m,\u001b[0m \u001b[0mmapstar\u001b[0m\u001b[0;34m,\u001b[0m \u001b[0mchunksize\u001b[0m\u001b[0;34m)\u001b[0m\u001b[0;34m.\u001b[0m\u001b[0mget\u001b[0m\u001b[0;34m(\u001b[0m\u001b[0;34m)\u001b[0m\u001b[0;34m\u001b[0m\u001b[0;34m\u001b[0m\u001b[0m\n\u001b[0m\u001b[1;32m    269\u001b[0m \u001b[0;34m\u001b[0m\u001b[0m\n",
      "\u001b[0;32m~/Desktop/Anaconda/anaconda3/lib/python3.7/multiprocessing/pool.py\u001b[0m in \u001b[0;36mget\u001b[0;34m(self, timeout)\u001b[0m\n\u001b[1;32m    650\u001b[0m     \u001b[0;32mdef\u001b[0m \u001b[0mget\u001b[0m\u001b[0;34m(\u001b[0m\u001b[0mself\u001b[0m\u001b[0;34m,\u001b[0m \u001b[0mtimeout\u001b[0m\u001b[0;34m=\u001b[0m\u001b[0;32mNone\u001b[0m\u001b[0;34m)\u001b[0m\u001b[0;34m:\u001b[0m\u001b[0;34m\u001b[0m\u001b[0;34m\u001b[0m\u001b[0m\n\u001b[0;32m--> 651\u001b[0;31m         \u001b[0mself\u001b[0m\u001b[0;34m.\u001b[0m\u001b[0mwait\u001b[0m\u001b[0;34m(\u001b[0m\u001b[0mtimeout\u001b[0m\u001b[0;34m)\u001b[0m\u001b[0;34m\u001b[0m\u001b[0;34m\u001b[0m\u001b[0m\n\u001b[0m\u001b[1;32m    652\u001b[0m         \u001b[0;32mif\u001b[0m \u001b[0;32mnot\u001b[0m \u001b[0mself\u001b[0m\u001b[0;34m.\u001b[0m\u001b[0mready\u001b[0m\u001b[0;34m(\u001b[0m\u001b[0;34m)\u001b[0m\u001b[0;34m:\u001b[0m\u001b[0;34m\u001b[0m\u001b[0;34m\u001b[0m\u001b[0m\n",
      "\u001b[0;32m~/Desktop/Anaconda/anaconda3/lib/python3.7/multiprocessing/pool.py\u001b[0m in \u001b[0;36mwait\u001b[0;34m(self, timeout)\u001b[0m\n\u001b[1;32m    647\u001b[0m     \u001b[0;32mdef\u001b[0m \u001b[0mwait\u001b[0m\u001b[0;34m(\u001b[0m\u001b[0mself\u001b[0m\u001b[0;34m,\u001b[0m \u001b[0mtimeout\u001b[0m\u001b[0;34m=\u001b[0m\u001b[0;32mNone\u001b[0m\u001b[0;34m)\u001b[0m\u001b[0;34m:\u001b[0m\u001b[0;34m\u001b[0m\u001b[0;34m\u001b[0m\u001b[0m\n\u001b[0;32m--> 648\u001b[0;31m         \u001b[0mself\u001b[0m\u001b[0;34m.\u001b[0m\u001b[0m_event\u001b[0m\u001b[0;34m.\u001b[0m\u001b[0mwait\u001b[0m\u001b[0;34m(\u001b[0m\u001b[0mtimeout\u001b[0m\u001b[0;34m)\u001b[0m\u001b[0;34m\u001b[0m\u001b[0;34m\u001b[0m\u001b[0m\n\u001b[0m\u001b[1;32m    649\u001b[0m \u001b[0;34m\u001b[0m\u001b[0m\n",
      "\u001b[0;32m~/Desktop/Anaconda/anaconda3/lib/python3.7/threading.py\u001b[0m in \u001b[0;36mwait\u001b[0;34m(self, timeout)\u001b[0m\n\u001b[1;32m    551\u001b[0m             \u001b[0;32mif\u001b[0m \u001b[0;32mnot\u001b[0m \u001b[0msignaled\u001b[0m\u001b[0;34m:\u001b[0m\u001b[0;34m\u001b[0m\u001b[0;34m\u001b[0m\u001b[0m\n\u001b[0;32m--> 552\u001b[0;31m                 \u001b[0msignaled\u001b[0m \u001b[0;34m=\u001b[0m \u001b[0mself\u001b[0m\u001b[0;34m.\u001b[0m\u001b[0m_cond\u001b[0m\u001b[0;34m.\u001b[0m\u001b[0mwait\u001b[0m\u001b[0;34m(\u001b[0m\u001b[0mtimeout\u001b[0m\u001b[0;34m)\u001b[0m\u001b[0;34m\u001b[0m\u001b[0;34m\u001b[0m\u001b[0m\n\u001b[0m\u001b[1;32m    553\u001b[0m             \u001b[0;32mreturn\u001b[0m \u001b[0msignaled\u001b[0m\u001b[0;34m\u001b[0m\u001b[0;34m\u001b[0m\u001b[0m\n",
      "\u001b[0;32m~/Desktop/Anaconda/anaconda3/lib/python3.7/threading.py\u001b[0m in \u001b[0;36mwait\u001b[0;34m(self, timeout)\u001b[0m\n\u001b[1;32m    295\u001b[0m             \u001b[0;32mif\u001b[0m \u001b[0mtimeout\u001b[0m \u001b[0;32mis\u001b[0m \u001b[0;32mNone\u001b[0m\u001b[0;34m:\u001b[0m\u001b[0;34m\u001b[0m\u001b[0;34m\u001b[0m\u001b[0m\n\u001b[0;32m--> 296\u001b[0;31m                 \u001b[0mwaiter\u001b[0m\u001b[0;34m.\u001b[0m\u001b[0macquire\u001b[0m\u001b[0;34m(\u001b[0m\u001b[0;34m)\u001b[0m\u001b[0;34m\u001b[0m\u001b[0;34m\u001b[0m\u001b[0m\n\u001b[0m\u001b[1;32m    297\u001b[0m                 \u001b[0mgotit\u001b[0m \u001b[0;34m=\u001b[0m \u001b[0;32mTrue\u001b[0m\u001b[0;34m\u001b[0m\u001b[0;34m\u001b[0m\u001b[0m\n",
      "\u001b[0;31mKeyboardInterrupt\u001b[0m: ",
      "\nDuring handling of the above exception, another exception occurred:\n",
      "\u001b[0;31mKeyboardInterrupt\u001b[0m                         Traceback (most recent call last)",
      "\u001b[0;32m<ipython-input-170-17b105e4e181>\u001b[0m in \u001b[0;36m<module>\u001b[0;34m\u001b[0m\n\u001b[1;32m     14\u001b[0m \u001b[0mctx\u001b[0m \u001b[0;34m=\u001b[0m \u001b[0mmp\u001b[0m\u001b[0;34m.\u001b[0m\u001b[0mget_context\u001b[0m\u001b[0;34m(\u001b[0m\u001b[0;34m'spawn'\u001b[0m\u001b[0;34m)\u001b[0m\u001b[0;34m\u001b[0m\u001b[0;34m\u001b[0m\u001b[0m\n\u001b[1;32m     15\u001b[0m \u001b[0;32mwith\u001b[0m \u001b[0mctx\u001b[0m\u001b[0;34m.\u001b[0m\u001b[0mPool\u001b[0m\u001b[0;34m(\u001b[0m\u001b[0mmp\u001b[0m\u001b[0;34m.\u001b[0m\u001b[0mcpu_count\u001b[0m\u001b[0;34m(\u001b[0m\u001b[0;34m)\u001b[0m\u001b[0;34m)\u001b[0m \u001b[0;32mas\u001b[0m \u001b[0mpool\u001b[0m\u001b[0;34m:\u001b[0m\u001b[0;34m\u001b[0m\u001b[0;34m\u001b[0m\u001b[0m\n\u001b[0;32m---> 16\u001b[0;31m     \u001b[0mres\u001b[0m \u001b[0;34m=\u001b[0m \u001b[0mpool\u001b[0m\u001b[0;34m.\u001b[0m\u001b[0mmap\u001b[0m\u001b[0;34m(\u001b[0m\u001b[0mf\u001b[0m\u001b[0;34m,\u001b[0m \u001b[0;34m[\u001b[0m\u001b[0mi\u001b[0m \u001b[0;32mfor\u001b[0m \u001b[0mi\u001b[0m \u001b[0;32min\u001b[0m \u001b[0mrange\u001b[0m\u001b[0;34m(\u001b[0m\u001b[0;36m1\u001b[0m\u001b[0;34m)\u001b[0m\u001b[0;34m]\u001b[0m\u001b[0;34m)\u001b[0m\u001b[0;34m\u001b[0m\u001b[0;34m\u001b[0m\u001b[0m\n\u001b[0m\u001b[1;32m     17\u001b[0m \u001b[0mprint\u001b[0m\u001b[0;34m(\u001b[0m\u001b[0;34m'Training time = '\u001b[0m \u001b[0;34m+\u001b[0m \u001b[0mstr\u001b[0m\u001b[0;34m(\u001b[0m\u001b[0;34m(\u001b[0m\u001b[0mtime\u001b[0m\u001b[0;34m.\u001b[0m\u001b[0mtime\u001b[0m\u001b[0;34m(\u001b[0m\u001b[0;34m)\u001b[0m\u001b[0;34m-\u001b[0m\u001b[0mstart\u001b[0m\u001b[0;34m)\u001b[0m\u001b[0;34m)\u001b[0m\u001b[0;34m)\u001b[0m\u001b[0;34m\u001b[0m\u001b[0;34m\u001b[0m\u001b[0m\n\u001b[1;32m     18\u001b[0m \u001b[0mprint\u001b[0m\u001b[0;34m(\u001b[0m\u001b[0mres\u001b[0m\u001b[0;34m)\u001b[0m\u001b[0;34m\u001b[0m\u001b[0;34m\u001b[0m\u001b[0m\n",
      "\u001b[0;32m~/Desktop/Anaconda/anaconda3/lib/python3.7/multiprocessing/pool.py\u001b[0m in \u001b[0;36m__exit__\u001b[0;34m(self, exc_type, exc_val, exc_tb)\u001b[0m\n\u001b[1;32m    621\u001b[0m \u001b[0;34m\u001b[0m\u001b[0m\n\u001b[1;32m    622\u001b[0m     \u001b[0;32mdef\u001b[0m \u001b[0m__exit__\u001b[0m\u001b[0;34m(\u001b[0m\u001b[0mself\u001b[0m\u001b[0;34m,\u001b[0m \u001b[0mexc_type\u001b[0m\u001b[0;34m,\u001b[0m \u001b[0mexc_val\u001b[0m\u001b[0;34m,\u001b[0m \u001b[0mexc_tb\u001b[0m\u001b[0;34m)\u001b[0m\u001b[0;34m:\u001b[0m\u001b[0;34m\u001b[0m\u001b[0;34m\u001b[0m\u001b[0m\n\u001b[0;32m--> 623\u001b[0;31m         \u001b[0mself\u001b[0m\u001b[0;34m.\u001b[0m\u001b[0mterminate\u001b[0m\u001b[0;34m(\u001b[0m\u001b[0;34m)\u001b[0m\u001b[0;34m\u001b[0m\u001b[0;34m\u001b[0m\u001b[0m\n\u001b[0m\u001b[1;32m    624\u001b[0m \u001b[0;34m\u001b[0m\u001b[0m\n\u001b[1;32m    625\u001b[0m \u001b[0;31m#\u001b[0m\u001b[0;34m\u001b[0m\u001b[0;34m\u001b[0m\u001b[0;34m\u001b[0m\u001b[0m\n",
      "\u001b[0;32m~/Desktop/Anaconda/anaconda3/lib/python3.7/multiprocessing/pool.py\u001b[0m in \u001b[0;36mterminate\u001b[0;34m(self)\u001b[0m\n\u001b[1;32m    546\u001b[0m         \u001b[0mself\u001b[0m\u001b[0;34m.\u001b[0m\u001b[0m_state\u001b[0m \u001b[0;34m=\u001b[0m \u001b[0mTERMINATE\u001b[0m\u001b[0;34m\u001b[0m\u001b[0;34m\u001b[0m\u001b[0m\n\u001b[1;32m    547\u001b[0m         \u001b[0mself\u001b[0m\u001b[0;34m.\u001b[0m\u001b[0m_worker_handler\u001b[0m\u001b[0;34m.\u001b[0m\u001b[0m_state\u001b[0m \u001b[0;34m=\u001b[0m \u001b[0mTERMINATE\u001b[0m\u001b[0;34m\u001b[0m\u001b[0;34m\u001b[0m\u001b[0m\n\u001b[0;32m--> 548\u001b[0;31m         \u001b[0mself\u001b[0m\u001b[0;34m.\u001b[0m\u001b[0m_terminate\u001b[0m\u001b[0;34m(\u001b[0m\u001b[0;34m)\u001b[0m\u001b[0;34m\u001b[0m\u001b[0;34m\u001b[0m\u001b[0m\n\u001b[0m\u001b[1;32m    549\u001b[0m \u001b[0;34m\u001b[0m\u001b[0m\n\u001b[1;32m    550\u001b[0m     \u001b[0;32mdef\u001b[0m \u001b[0mjoin\u001b[0m\u001b[0;34m(\u001b[0m\u001b[0mself\u001b[0m\u001b[0;34m)\u001b[0m\u001b[0;34m:\u001b[0m\u001b[0;34m\u001b[0m\u001b[0;34m\u001b[0m\u001b[0m\n",
      "\u001b[0;32m~/Desktop/Anaconda/anaconda3/lib/python3.7/multiprocessing/util.py\u001b[0m in \u001b[0;36m__call__\u001b[0;34m(self, wr, _finalizer_registry, sub_debug, getpid)\u001b[0m\n\u001b[1;32m    199\u001b[0m                 sub_debug('finalizer calling %s with args %s and kwargs %s',\n\u001b[1;32m    200\u001b[0m                           self._callback, self._args, self._kwargs)\n\u001b[0;32m--> 201\u001b[0;31m                 \u001b[0mres\u001b[0m \u001b[0;34m=\u001b[0m \u001b[0mself\u001b[0m\u001b[0;34m.\u001b[0m\u001b[0m_callback\u001b[0m\u001b[0;34m(\u001b[0m\u001b[0;34m*\u001b[0m\u001b[0mself\u001b[0m\u001b[0;34m.\u001b[0m\u001b[0m_args\u001b[0m\u001b[0;34m,\u001b[0m \u001b[0;34m**\u001b[0m\u001b[0mself\u001b[0m\u001b[0;34m.\u001b[0m\u001b[0m_kwargs\u001b[0m\u001b[0;34m)\u001b[0m\u001b[0;34m\u001b[0m\u001b[0;34m\u001b[0m\u001b[0m\n\u001b[0m\u001b[1;32m    202\u001b[0m             \u001b[0mself\u001b[0m\u001b[0;34m.\u001b[0m\u001b[0m_weakref\u001b[0m \u001b[0;34m=\u001b[0m \u001b[0mself\u001b[0m\u001b[0;34m.\u001b[0m\u001b[0m_callback\u001b[0m \u001b[0;34m=\u001b[0m \u001b[0mself\u001b[0m\u001b[0;34m.\u001b[0m\u001b[0m_args\u001b[0m \u001b[0;34m=\u001b[0m\u001b[0;31m \u001b[0m\u001b[0;31m\\\u001b[0m\u001b[0;34m\u001b[0m\u001b[0;34m\u001b[0m\u001b[0m\n\u001b[1;32m    203\u001b[0m                             \u001b[0mself\u001b[0m\u001b[0;34m.\u001b[0m\u001b[0m_kwargs\u001b[0m \u001b[0;34m=\u001b[0m \u001b[0mself\u001b[0m\u001b[0;34m.\u001b[0m\u001b[0m_key\u001b[0m \u001b[0;34m=\u001b[0m \u001b[0;32mNone\u001b[0m\u001b[0;34m\u001b[0m\u001b[0;34m\u001b[0m\u001b[0m\n",
      "\u001b[0;32m~/Desktop/Anaconda/anaconda3/lib/python3.7/multiprocessing/pool.py\u001b[0m in \u001b[0;36m_terminate_pool\u001b[0;34m(cls, taskqueue, inqueue, outqueue, pool, worker_handler, task_handler, result_handler, cache)\u001b[0m\n\u001b[1;32m    579\u001b[0m \u001b[0;34m\u001b[0m\u001b[0m\n\u001b[1;32m    580\u001b[0m         \u001b[0mutil\u001b[0m\u001b[0;34m.\u001b[0m\u001b[0mdebug\u001b[0m\u001b[0;34m(\u001b[0m\u001b[0;34m'helping task handler/workers to finish'\u001b[0m\u001b[0;34m)\u001b[0m\u001b[0;34m\u001b[0m\u001b[0;34m\u001b[0m\u001b[0m\n\u001b[0;32m--> 581\u001b[0;31m         \u001b[0mcls\u001b[0m\u001b[0;34m.\u001b[0m\u001b[0m_help_stuff_finish\u001b[0m\u001b[0;34m(\u001b[0m\u001b[0minqueue\u001b[0m\u001b[0;34m,\u001b[0m \u001b[0mtask_handler\u001b[0m\u001b[0;34m,\u001b[0m \u001b[0mlen\u001b[0m\u001b[0;34m(\u001b[0m\u001b[0mpool\u001b[0m\u001b[0;34m)\u001b[0m\u001b[0;34m)\u001b[0m\u001b[0;34m\u001b[0m\u001b[0;34m\u001b[0m\u001b[0m\n\u001b[0m\u001b[1;32m    582\u001b[0m \u001b[0;34m\u001b[0m\u001b[0m\n\u001b[1;32m    583\u001b[0m         \u001b[0;32mif\u001b[0m \u001b[0;34m(\u001b[0m\u001b[0;32mnot\u001b[0m \u001b[0mresult_handler\u001b[0m\u001b[0;34m.\u001b[0m\u001b[0mis_alive\u001b[0m\u001b[0;34m(\u001b[0m\u001b[0;34m)\u001b[0m\u001b[0;34m)\u001b[0m \u001b[0;32mand\u001b[0m \u001b[0;34m(\u001b[0m\u001b[0mlen\u001b[0m\u001b[0;34m(\u001b[0m\u001b[0mcache\u001b[0m\u001b[0;34m)\u001b[0m \u001b[0;34m!=\u001b[0m \u001b[0;36m0\u001b[0m\u001b[0;34m)\u001b[0m\u001b[0;34m:\u001b[0m\u001b[0;34m\u001b[0m\u001b[0;34m\u001b[0m\u001b[0m\n",
      "\u001b[0;32m~/Desktop/Anaconda/anaconda3/lib/python3.7/multiprocessing/pool.py\u001b[0m in \u001b[0;36m_help_stuff_finish\u001b[0;34m(inqueue, task_handler, size)\u001b[0m\n\u001b[1;32m    564\u001b[0m         \u001b[0;31m# task_handler may be blocked trying to put items on inqueue\u001b[0m\u001b[0;34m\u001b[0m\u001b[0;34m\u001b[0m\u001b[0;34m\u001b[0m\u001b[0m\n\u001b[1;32m    565\u001b[0m         \u001b[0mutil\u001b[0m\u001b[0;34m.\u001b[0m\u001b[0mdebug\u001b[0m\u001b[0;34m(\u001b[0m\u001b[0;34m'removing tasks from inqueue until task handler finished'\u001b[0m\u001b[0;34m)\u001b[0m\u001b[0;34m\u001b[0m\u001b[0;34m\u001b[0m\u001b[0m\n\u001b[0;32m--> 566\u001b[0;31m         \u001b[0minqueue\u001b[0m\u001b[0;34m.\u001b[0m\u001b[0m_rlock\u001b[0m\u001b[0;34m.\u001b[0m\u001b[0macquire\u001b[0m\u001b[0;34m(\u001b[0m\u001b[0;34m)\u001b[0m\u001b[0;34m\u001b[0m\u001b[0;34m\u001b[0m\u001b[0m\n\u001b[0m\u001b[1;32m    567\u001b[0m         \u001b[0;32mwhile\u001b[0m \u001b[0mtask_handler\u001b[0m\u001b[0;34m.\u001b[0m\u001b[0mis_alive\u001b[0m\u001b[0;34m(\u001b[0m\u001b[0;34m)\u001b[0m \u001b[0;32mand\u001b[0m \u001b[0minqueue\u001b[0m\u001b[0;34m.\u001b[0m\u001b[0m_reader\u001b[0m\u001b[0;34m.\u001b[0m\u001b[0mpoll\u001b[0m\u001b[0;34m(\u001b[0m\u001b[0;34m)\u001b[0m\u001b[0;34m:\u001b[0m\u001b[0;34m\u001b[0m\u001b[0;34m\u001b[0m\u001b[0m\n\u001b[1;32m    568\u001b[0m             \u001b[0minqueue\u001b[0m\u001b[0;34m.\u001b[0m\u001b[0m_reader\u001b[0m\u001b[0;34m.\u001b[0m\u001b[0mrecv\u001b[0m\u001b[0;34m(\u001b[0m\u001b[0;34m)\u001b[0m\u001b[0;34m\u001b[0m\u001b[0;34m\u001b[0m\u001b[0m\n",
      "\u001b[0;31mKeyboardInterrupt\u001b[0m: "
     ]
    }
   ],
   "source": [
    "start = time.time()\n",
    "def f(i):\n",
    "    torch.manual_seed(0)\n",
    "    RF = DataFile('Reference_sample/1.h5')\n",
    "    DF = DataFile('SM_toys/4.h5')\n",
    "    Nexp = 2000.\n",
    "    NRef = RF.Data[:200000].size()[0]\n",
    "    TData, TLabels = TrainingDataSample(RF.Data[:200000], DF.Data)\n",
    "    MD = OurModel(AR = [1, 4, 1], AF = 'Sigmoid' , WC = 100)\n",
    "    MD.double()\n",
    "    MD.InitPreprocess(TData)\n",
    "    MT = OurTrainer(Nexp/NRef, NumEpochs = 1, LearningRate = 1e-3, Optimiser = 'Adam')\n",
    "    MT.Train(MD, TData, TLabels, UseGPU = False)\n",
    "ctx = mp.get_context('spawn')\n",
    "with ctx.Pool(mp.cpu_count()) as pool:\n",
    "    res = pool.map(f, [i for i in range(1)])\n",
    "print('Training time = ' + str((time.time()-start)))\n",
    "print(res)\n",
    "pool.close()"
   ]
  },
  {
   "cell_type": "code",
   "execution_count": 151,
   "metadata": {},
   "outputs": [
    {
     "ename": "TypeError",
     "evalue": "'MapResult' object is not subscriptable",
     "output_type": "error",
     "traceback": [
      "\u001b[0;31m---------------------------------------------------------------------------\u001b[0m",
      "\u001b[0;31mTypeError\u001b[0m                                 Traceback (most recent call last)",
      "\u001b[0;32m<ipython-input-151-d9619c337fe4>\u001b[0m in \u001b[0;36m<module>\u001b[0;34m\u001b[0m\n\u001b[0;32m----> 1\u001b[0;31m \u001b[0mprint\u001b[0m\u001b[0;34m(\u001b[0m\u001b[0mres\u001b[0m\u001b[0;34m[\u001b[0m\u001b[0;36m0\u001b[0m\u001b[0;34m]\u001b[0m\u001b[0;34m)\u001b[0m\u001b[0;34m\u001b[0m\u001b[0;34m\u001b[0m\u001b[0m\n\u001b[0m",
      "\u001b[0;31mTypeError\u001b[0m: 'MapResult' object is not subscriptable"
     ]
    }
   ],
   "source": [
    "print(res[0])"
   ]
  },
  {
   "cell_type": "code",
   "execution_count": 140,
   "metadata": {},
   "outputs": [
    {
     "data": {
      "text/plain": [
       "range(0, 10)"
      ]
     },
     "execution_count": 140,
     "metadata": {},
     "output_type": "execute_result"
    }
   ],
   "source": [
    "range(10)"
   ]
  },
  {
   "cell_type": "code",
   "execution_count": 136,
   "metadata": {},
   "outputs": [
    {
     "name": "stdout",
     "output_type": "stream",
     "text": [
      "\n",
      "Reading file ...Reference_sample/1.h5\n",
      "\n",
      "Reading file ...SM_toys/4.h5\n",
      "\n",
      "Reference data lenght =  200000\n",
      "\n",
      "Total number of training points  =  201965\n",
      "\n",
      "Initializing Preprocesses Variables\n",
      "\n",
      "Model Report:\n",
      "Preprocess Initialized: True\n",
      "Architecture: [1, 4, 1]\n",
      "Activation: <built-in method sigmoid of type object at 0x7f340375fc40>\n",
      "Training time = 51.282803297042859999621\n"
     ]
    },
    {
     "data": {
      "text/plain": [
       "[<matplotlib.lines.Line2D at 0x7f33296d7f10>]"
      ]
     },
     "execution_count": 136,
     "metadata": {},
     "output_type": "execute_result"
    },
    {
     "data": {
      "image/png": "[encoded data removed]",
      "text/plain": [
       "<Figure size 432x288 with 1 Axes>"
      ]
     },
     "metadata": {
      "needs_background": "light"
     },
     "output_type": "display_data"
    }
   ],
   "source": [
    "torch.manual_seed(0)\n",
    "RF = DataFile('Reference_sample/1.h5')\n",
    "DF = DataFile('SM_toys/4.h5')\n",
    "Nexp = 2000.\n",
    "NRef = RF.Data[:200000].size()[0]\n",
    "print('\\nReference data lenght = ', NRef)\n",
    "TData, TLabels = TrainingDataSample(RF.Data[:200000], DF.Data)\n",
    "print('\\nTotal number of training points  = ', TData.size(0))\n",
    "MD = OurModel(AR = [1, 4, 1], AF = 'Sigmoid' , WC = 100)\n",
    "MD.double()\n",
    "MD.InitPreprocess(TData)\n",
    "MD.Report()\n",
    "MT = OurTrainer(Nexp/NRef, NumEpochs = 10000, LearningRate = 1e-3, Optimiser = 'Adam')\n",
    "start = time.time()\n",
    "epoch, t = MT.Train(MD, TData, TLabels, UseGPU = True)\n",
    "print('Training time = ' + str((time.time()-start)))\n",
    "plt.axis([0, max(epoch), 0, max(t)])\n",
    "plt.plot(epoch,t)"
   ]
  },
  {
   "cell_type": "code",
   "execution_count": 54,
   "metadata": {},
   "outputs": [
    {
     "name": "stdout",
     "output_type": "stream",
     "text": [
      "\n",
      "Reading file ...Reference_sample/1.h5\n",
      "\n",
      "Reading file ...SM_toys/4.h5\n",
      "\n",
      "Reference data lenght =  200000\n",
      "\n",
      "Total number of training points  =  201965\n",
      "\n",
      "Initializing Preprocesses Variables\n",
      "\n",
      "Model Report:\n",
      "Preprocess Initialized: True\n",
      "Architecture: [1, 4, 1]\n",
      "Activation: <built-in method sigmoid of type object at 0x7f340375fc40>\n",
      "Training time = 39.07765603065491 99997\n"
     ]
    },
    {
     "data": {
      "text/plain": [
       "[<matplotlib.lines.Line2D at 0x7f33ac220a10>]"
      ]
     },
     "execution_count": 54,
     "metadata": {},
     "output_type": "execute_result"
    },
    {
     "data": {
      "image/png": "[encoded data removed]",
      "text/plain": [
       "<Figure size 432x288 with 1 Axes>"
      ]
     },
     "metadata": {
      "needs_background": "light"
     },
     "output_type": "display_data"
    }
   ],
   "source": [
    "torch.manual_seed(0)\n",
    "RF = DataFile('Reference_sample/1.h5')\n",
    "DF = DataFile('SM_toys/4.h5')\n",
    "Nexp = 2000.\n",
    "NRef = RF.Data.size()[0]\n",
    "print('\\nReference data lenght = ', NRef)\n",
    "TData, TLabels = TrainingDataSample(RF.Data, DF.Data)\n",
    "print('\\nTotal number of training points  = ', TData.size(0))\n",
    "MD = OurModel(AR = [1, 4, 1], AF = 'Sigmoid' , WC = 100)\n",
    "MD.double()\n",
    "MD.InitPreprocess(TData)\n",
    "MD.Report()\n",
    "MT = OurTrainer(Nexp/NRef, NumEpochs = 10000, LearningRate = 1e-3, Optimiser = 'Adam')\n",
    "start = time.time()\n",
    "epoch, t = MT.Train(MD, TData, TLabels, UseGPU = True)\n",
    "print('Training time = ' + str((time.time()-start))\n",
    "plt.axis([0, max(epoch), 0, max(t)])\n",
    "plt.plot(epoch,t)"
   ]
  },
  {
   "cell_type": "code",
   "execution_count": 59,
   "metadata": {},
   "outputs": [
    {
     "name": "stdout",
     "output_type": "stream",
     "text": [
      "\n",
      "Reading file ...Reference_sample/1.h5\n",
      "\n",
      "Reading file ...SM_toys/4.h5\n",
      "\n",
      "Reference data lenght =  200000\n",
      "\n",
      "Total number of training points  =  201965\n",
      "\n",
      "Initializing Preprocesses Variables\n",
      "\n",
      "Model Report:\n",
      "Preprocess Initialized: True\n",
      "Architecture: [1, 4, 1]\n",
      "Activation: <built-in method sigmoid of type object at 0x7f340375fc40>\n",
      "Training time = 34.61289858818054999984\n"
     ]
    },
    {
     "data": {
      "text/plain": [
       "[<matplotlib.lines.Line2D at 0x7f339c36b890>]"
      ]
     },
     "execution_count": 59,
     "metadata": {},
     "output_type": "execute_result"
    },
    {
     "data": {
      "image/png": "[encoded data removed]",
      "text/plain": [
       "<Figure size 432x288 with 1 Axes>"
      ]
     },
     "metadata": {
      "needs_background": "light"
     },
     "output_type": "display_data"
    }
   ],
   "source": [
    "torch.manual_seed(0)\n",
    "RF = DataFile('Reference_sample/1.h5')\n",
    "DF = DataFile('SM_toys/4.h5')\n",
    "Nexp = 2000.\n",
    "NRef = RF.Data.size()[0]\n",
    "print('\\nReference data lenght = ', NRef)\n",
    "TData, TLabels = TrainingDataSample(RF.Data, DF.Data)\n",
    "print('\\nTotal number of training points  = ', TData.size(0))\n",
    "MD = OurModel(AR = [1, 4, 1], AF = 'Sigmoid' , WC = 100)\n",
    "#MD.double()\n",
    "MD.InitPreprocess(TData.type(torch.float))\n",
    "MD.Report()\n",
    "MT = OurTrainer(Nexp/NRef, NumEpochs = 10000, LearningRate = 1e-3, Optimiser = 'Adam')\n",
    "start = time.time()\n",
    "epoch, t = MT.Train(MD, TData.type(torch.float), TLabels.type(torch.float), UseGPU = True)\n",
    "print('Training time = ' + str((time.time()-start)))\n",
    "plt.axis([0, max(epoch), 0, max(t)])\n",
    "plt.plot(epoch,t)"
   ]
  },
  {
   "cell_type": "code",
   "execution_count": 73,
   "metadata": {},
   "outputs": [
    {
     "name": "stdout",
     "output_type": "stream",
     "text": [
      "0.693147180559945\n",
      "0.693147182464600\n",
      "0.693147180559945\n",
      "0.693147182464600\n"
     ]
    }
   ],
   "source": [
    "a = torch.DoubleTensor([2.])\n",
    "a = torch.log(a)\n",
    "print('%.15f' % a)\n",
    "b = torch.Tensor([2.])\n",
    "b = torch.log(b)\n",
    "print('%.15f' % b)\n",
    "ac = torch.DoubleTensor([2.])\n",
    "acud = ac.cuda()\n",
    "acud = torch.log(acud)\n",
    "print('%.15f' % acud)\n",
    "bc = torch.Tensor([2.])\n",
    "bcud = bc.cuda()\n",
    "bcud = torch.log(bcud)\n",
    "print('%.15f' % bcud)"
   ]
  },
  {
   "cell_type": "code",
   "execution_count": 36,
   "metadata": {},
   "outputs": [
    {
     "name": "stdout",
     "output_type": "stream",
     "text": [
      "\n",
      "Reading file ...Reference_sample/1.h5\n",
      "\n",
      "Reading file ...SM_toys/4.h5\n",
      "\n",
      "Reference data lenght =  200000\n",
      "\n",
      "Total number of training points  =  201965\n",
      "\n",
      "Initializing Preprocesses Variables\n",
      "\n",
      "Model Report:\n",
      "Preprocess Initialized: True\n",
      "Architecture: [1, 4, 1]\n",
      "Activation: <built-in method sigmoid of type object at 0x7f340375fc40>\n",
      "300\n",
      "0.7708561555250668\n",
      "500\n",
      "0.006371840149007824\n",
      "52500\n",
      "0.0010556146599327576\n",
      "82400\n",
      "0.0006677851084226916\n",
      "12.388448409832773\n",
      "Training time = 7.139304447174072\n"
     ]
    },
    {
     "data": {
      "text/plain": [
       "[<matplotlib.lines.Line2D at 0x7f339c1c1d90>]"
      ]
     },
     "execution_count": 36,
     "metadata": {},
     "output_type": "execute_result"
    },
    {
     "data": {
      "image/png": "[encoded data removed]",
      "text/plain": [
       "<Figure size 432x288 with 1 Axes>"
      ]
     },
     "metadata": {
      "needs_background": "light"
     },
     "output_type": "display_data"
    }
   ],
   "source": [
    "torch.manual_seed(0)\n",
    "RF = DataFile('Reference_sample/1.h5')\n",
    "DF = DataFile('SM_toys/4.h5')\n",
    "Nexp = 2000.\n",
    "NRef = RF.Data.size()[0]\n",
    "print('\\nReference data lenght = ', NRef)\n",
    "TData, TLabels = TrainingDataSample(RF.Data, DF.Data)\n",
    "print('\\nTotal number of training points  = ', TData.size(0))\n",
    "MD = OurModel(AR = [1, 4, 1], AF = 'Sigmoid' , WC = 100)\n",
    "MD.double()\n",
    "MD.InitPreprocess(TData)\n",
    "MD.Report()\n",
    "MT = OurTrainer(Nexp/NRef, NumEpochs = 100000, LearningRate = 1e-3, Optimiser = 'Adam')\n",
    "start = time.time()\n",
    "epoch, t = MT.Train1(MD, TData, TLabels, UseGPU = True)\n",
    "print('Training time = ' + str((time.time()-start)/60.))\n",
    "plt.axis([0, max(epoch), 0, max(t)])\n",
    "plt.plot(epoch,t)"
   ]
  },
  {
   "cell_type": "code",
   "execution_count": 39,
   "metadata": {},
   "outputs": [
    {
     "name": "stdout",
     "output_type": "stream",
     "text": [
      "\n",
      "Reading file ...Reference_sample/1.h5\n",
      "\n",
      "Reading file ...SM_toys/4.h5\n",
      "\n",
      "Reference data lenght =  200000\n",
      "\n",
      "Total number of training points  =  201965\n",
      "\n",
      "Initializing Preprocesses Variables\n",
      "\n",
      "Model Report:\n",
      "Preprocess Initialized: True\n",
      "Architecture: [1, 4, 1]\n",
      "Activation: <built-in method sigmoid of type object at 0x7f340375fc40>\n",
      "Training time = 7.805156973997752 999992\n"
     ]
    },
    {
     "data": {
      "text/plain": [
       "[<matplotlib.lines.Line2D at 0x7f339c4840d0>]"
      ]
     },
     "execution_count": 39,
     "metadata": {},
     "output_type": "execute_result"
    },
    {
     "data": {
      "image/png": "[encoded data removed]",
      "text/plain": [
       "<Figure size 432x288 with 1 Axes>"
      ]
     },
     "metadata": {
      "needs_background": "light"
     },
     "output_type": "display_data"
    }
   ],
   "source": [
    "torch.manual_seed(0)\n",
    "RF = DataFile('Reference_sample/1.h5')\n",
    "DF = DataFile('SM_toys/4.h5')\n",
    "Nexp = 2000.\n",
    "NRef = RF.Data.size()[0]\n",
    "print('\\nReference data lenght = ', NRef)\n",
    "TData, TLabels = TrainingDataSample(RF.Data, DF.Data)\n",
    "print('\\nTotal number of training points  = ', TData.size(0))\n",
    "MD = OurModel(AR = [1, 4, 1], AF = 'Sigmoid', WC = 0.001 )\n",
    "MD.double()\n",
    "MD.InitPreprocess(TData)\n",
    "MD.Report()\n",
    "MT = OurTrainer(Nexp/NRef, NumEpochs = 100000, LearningRate = 1e-3, Optimiser = 'Adam')\n",
    "start = time.time()\n",
    "epoch, t = MT.Train(MD, TData, TLabels, UseGPU = True)\n",
    "print('Training time = ' + str((time.time()-start)/60.))\n",
    "plt.axis([0, max(epoch), 0, max(t)])\n",
    "plt.plot(epoch,t)"
   ]
  },
  {
   "cell_type": "code",
   "execution_count": 44,
   "metadata": {},
   "outputs": [
    {
     "name": "stdout",
     "output_type": "stream",
     "text": [
      "\n",
      "Reading file ...Reference_sample/1.h5\n",
      "\n",
      "Reading file ...SM_toys/40.h5\n",
      "\n",
      "Reference data lenght =  200000\n",
      "\n",
      "Total number of training points  =  202032\n",
      "\n",
      "Initializing Preprocesses Variables\n",
      "\n",
      "Model Report:\n",
      "Preprocess Initialized: True\n",
      "Architecture: [1, 4, 1]\n",
      "Activation: <built-in method sigmoid of type object at 0x7f340375fc40>\n",
      "Training time = 7.771069900194804 9999907\n"
     ]
    },
    {
     "data": {
      "text/plain": [
       "[<matplotlib.lines.Line2D at 0x7f339c1ad7d0>]"
      ]
     },
     "execution_count": 44,
     "metadata": {},
     "output_type": "execute_result"
    },
    {
     "data": {
      "image/png": "[encoded data removed]",
      "text/plain": [
       "<Figure size 432x288 with 1 Axes>"
      ]
     },
     "metadata": {
      "needs_background": "light"
     },
     "output_type": "display_data"
    }
   ],
   "source": [
    "torch.manual_seed(0)\n",
    "RF = DataFile('Reference_sample/1.h5')\n",
    "DF = DataFile('SM_toys/40.h5')\n",
    "Nexp = 2000.\n",
    "NRef = RF.Data.size()[0]\n",
    "print('\\nReference data lenght = ', NRef)\n",
    "TData, TLabels = TrainingDataSample(RF.Data, DF.Data)\n",
    "print('\\nTotal number of training points  = ', TData.size(0))\n",
    "MD = OurModel(AR = [1, 4, 1], AF = 'Sigmoid', WC = 100 )\n",
    "MD.double()\n",
    "MD.InitPreprocess(TData)\n",
    "MD.Report()\n",
    "MT = OurTrainer(Nexp/NRef, NumEpochs = 100000, LearningRate = 1e-3, Optimiser = 'Adam')\n",
    "start = time.time()\n",
    "epoch, t = MT.Train(MD, TData, TLabels, UseGPU = True)\n",
    "print('Training time = ' + str((time.time()-start)/60.))\n",
    "plt.axis([0, max(epoch), 0, max(t)])\n",
    "plt.plot(epoch,t)"
   ]
  },
  {
   "cell_type": "code",
   "execution_count": 41,
   "metadata": {},
   "outputs": [
    {
     "name": "stdout",
     "output_type": "stream",
     "text": [
      "\n",
      "Reading file ...Reference_sample/1.h5\n",
      "\n",
      "Reading file ...SM_toys/41.h5\n",
      "\n",
      "Reference data lenght =  200000\n",
      "\n",
      "Total number of training points  =  201978\n",
      "\n",
      "Initializing Preprocesses Variables\n",
      "\n",
      "Model Report:\n",
      "Preprocess Initialized: True\n",
      "Architecture: [1, 4, 1]\n",
      "Activation: <built-in method sigmoid of type object at 0x7f340375fc40>\n",
      "Training time = 7.7603129347165429999984\n"
     ]
    },
    {
     "data": {
      "text/plain": [
       "[<matplotlib.lines.Line2D at 0x7f337c063250>]"
      ]
     },
     "execution_count": 41,
     "metadata": {},
     "output_type": "execute_result"
    },
    {
     "data": {
      "image/png": "[encoded data removed]",
      "text/plain": [
       "<Figure size 432x288 with 1 Axes>"
      ]
     },
     "metadata": {
      "needs_background": "light"
     },
     "output_type": "display_data"
    }
   ],
   "source": [
    "torch.manual_seed(0)\n",
    "RF = DataFile('Reference_sample/1.h5')\n",
    "DF = DataFile('SM_toys/41.h5')\n",
    "Nexp = 2000.\n",
    "NRef = RF.Data.size()[0]\n",
    "print('\\nReference data lenght = ', NRef)\n",
    "TData, TLabels = TrainingDataSample(RF.Data, DF.Data)\n",
    "print('\\nTotal number of training points  = ', TData.size(0))\n",
    "MD = OurModel(AR = [1, 4, 1], AF = 'Sigmoid', WC = 100 )\n",
    "MD.double()\n",
    "MD.InitPreprocess(TData)\n",
    "MD.Report()\n",
    "MT = OurTrainer(Nexp/NRef, NumEpochs = 100000, LearningRate = 1e-3, Optimiser = 'Adam')\n",
    "start = time.time()\n",
    "epoch, t = MT.Train(MD, TData, TLabels, UseGPU = True)\n",
    "print('Training time = ' + str((time.time()-start)/60.))\n",
    "plt.axis([0, max(epoch), 0, max(t)])\n",
    "plt.plot(epoch,t)"
   ]
  },
  {
   "cell_type": "code",
   "execution_count": 42,
   "metadata": {},
   "outputs": [
    {
     "name": "stdout",
     "output_type": "stream",
     "text": [
      "\n",
      "Reading file ...Reference_sample/1.h5\n",
      "\n",
      "Reading file ...SM_toys/141.h5\n",
      "\n",
      "Reference data lenght =  200000\n",
      "\n",
      "Total number of training points  =  202062\n",
      "\n",
      "Initializing Preprocesses Variables\n",
      "\n",
      "Model Report:\n",
      "Preprocess Initialized: True\n",
      "Architecture: [1, 4, 1]\n",
      "Activation: <built-in method sigmoid of type object at 0x7f340375fc40>\n",
      "Training time = 7.763207320372263 99999\n"
     ]
    },
    {
     "data": {
      "text/plain": [
       "[<matplotlib.lines.Line2D at 0x7f339c1ada90>]"
      ]
     },
     "execution_count": 42,
     "metadata": {},
     "output_type": "execute_result"
    },
    {
     "data": {
      "image/png": "[encoded data removed]",
      "text/plain": [
       "<Figure size 432x288 with 1 Axes>"
      ]
     },
     "metadata": {
      "needs_background": "light"
     },
     "output_type": "display_data"
    }
   ],
   "source": [
    "torch.manual_seed(0)\n",
    "RF = DataFile('Reference_sample/1.h5')\n",
    "DF = DataFile('SM_toys/141.h5')\n",
    "Nexp = 2000.\n",
    "NRef = RF.Data.size()[0]\n",
    "print('\\nReference data lenght = ', NRef)\n",
    "TData, TLabels = TrainingDataSample(RF.Data, DF.Data)\n",
    "print('\\nTotal number of training points  = ', TData.size(0))\n",
    "MD = OurModel(AR = [1, 4, 1], AF = 'Sigmoid', WC = 100 )\n",
    "MD.double()\n",
    "MD.InitPreprocess(TData)\n",
    "MD.Report()\n",
    "MT = OurTrainer(Nexp/NRef, NumEpochs = 100000, LearningRate = 1e-3, Optimiser = 'Adam')\n",
    "start = time.time()\n",
    "epoch, t = MT.Train(MD, TData, TLabels, UseGPU = True)\n",
    "print('Training time = ' + str((time.time()-start)/60.))\n",
    "plt.axis([0, max(epoch), 0, max(t)])\n",
    "plt.plot(epoch,t)"
   ]
  },
  {
   "cell_type": "code",
   "execution_count": 37,
   "metadata": {},
   "outputs": [
    {
     "name": "stdout",
     "output_type": "stream",
     "text": [
      "\n",
      "Reading file ...Reference_sample/1.h5\n",
      "\n",
      "Reading file ...SM_toys/4.h5\n",
      "\n",
      "Reference data lenght =  200000\n",
      "\n",
      "Total number of training points  =  201965\n",
      "\n",
      "Initializing Preprocesses Variables\n",
      "\n",
      "Model Report:\n",
      "Preprocess Initialized: True\n",
      "Architecture: [1, 4, 1]\n",
      "Activation: <built-in method sigmoid of type object at 0x7f340375fc40>\n",
      "t = 1.9806942311654976 at epoch = 202465\r"
     ]
    },
    {
     "ename": "KeyboardInterrupt",
     "evalue": "",
     "output_type": "error",
     "traceback": [
      "\u001b[0;31m---------------------------------------------------------------------------\u001b[0m",
      "\u001b[0;31mKeyboardInterrupt\u001b[0m                         Traceback (most recent call last)",
      "\u001b[0;32m<ipython-input-37-6f0f67befa7d>\u001b[0m in \u001b[0;36m<module>\u001b[0;34m\u001b[0m\n\u001b[1;32m     13\u001b[0m \u001b[0mMT\u001b[0m \u001b[0;34m=\u001b[0m \u001b[0mOurTrainer\u001b[0m\u001b[0;34m(\u001b[0m\u001b[0mNexp\u001b[0m\u001b[0;34m/\u001b[0m\u001b[0mNRef\u001b[0m\u001b[0;34m,\u001b[0m \u001b[0mNumEpochs\u001b[0m \u001b[0;34m=\u001b[0m \u001b[0;36m10000\u001b[0m\u001b[0;34m,\u001b[0m \u001b[0mLearningRate\u001b[0m \u001b[0;34m=\u001b[0m \u001b[0;36m1e-3\u001b[0m\u001b[0;34m,\u001b[0m \u001b[0mOptimiser\u001b[0m \u001b[0;34m=\u001b[0m \u001b[0;34m'Adam'\u001b[0m\u001b[0;34m)\u001b[0m\u001b[0;34m\u001b[0m\u001b[0;34m\u001b[0m\u001b[0m\n\u001b[1;32m     14\u001b[0m \u001b[0mstart\u001b[0m \u001b[0;34m=\u001b[0m \u001b[0mtime\u001b[0m\u001b[0;34m.\u001b[0m\u001b[0mtime\u001b[0m\u001b[0;34m(\u001b[0m\u001b[0;34m)\u001b[0m\u001b[0;34m\u001b[0m\u001b[0;34m\u001b[0m\u001b[0m\n\u001b[0;32m---> 15\u001b[0;31m \u001b[0mepoch\u001b[0m\u001b[0;34m,\u001b[0m \u001b[0mt\u001b[0m \u001b[0;34m=\u001b[0m \u001b[0mMT\u001b[0m\u001b[0;34m.\u001b[0m\u001b[0mTrain\u001b[0m\u001b[0;34m(\u001b[0m\u001b[0mMD\u001b[0m\u001b[0;34m,\u001b[0m \u001b[0mTData\u001b[0m\u001b[0;34m,\u001b[0m \u001b[0mTLabels\u001b[0m\u001b[0;34m,\u001b[0m \u001b[0mUseGPU\u001b[0m \u001b[0;34m=\u001b[0m \u001b[0;32mFalse\u001b[0m\u001b[0;34m)\u001b[0m\u001b[0;34m\u001b[0m\u001b[0;34m\u001b[0m\u001b[0m\n\u001b[0m\u001b[1;32m     16\u001b[0m \u001b[0mprint\u001b[0m\u001b[0;34m(\u001b[0m\u001b[0;34m'Training time = '\u001b[0m \u001b[0;34m+\u001b[0m \u001b[0mstr\u001b[0m\u001b[0;34m(\u001b[0m\u001b[0;34m(\u001b[0m\u001b[0mtime\u001b[0m\u001b[0;34m.\u001b[0m\u001b[0mtime\u001b[0m\u001b[0;34m(\u001b[0m\u001b[0;34m)\u001b[0m\u001b[0;34m-\u001b[0m\u001b[0mstart\u001b[0m\u001b[0;34m)\u001b[0m\u001b[0;34m/\u001b[0m\u001b[0;36m60.\u001b[0m\u001b[0;34m)\u001b[0m\u001b[0;34m)\u001b[0m\u001b[0;34m\u001b[0m\u001b[0;34m\u001b[0m\u001b[0m\n\u001b[1;32m     17\u001b[0m \u001b[0mplt\u001b[0m\u001b[0;34m.\u001b[0m\u001b[0maxis\u001b[0m\u001b[0;34m(\u001b[0m\u001b[0;34m[\u001b[0m\u001b[0;36m0\u001b[0m\u001b[0;34m,\u001b[0m \u001b[0mmax\u001b[0m\u001b[0;34m(\u001b[0m\u001b[0mepoch\u001b[0m\u001b[0;34m)\u001b[0m\u001b[0;34m,\u001b[0m \u001b[0;36m0\u001b[0m\u001b[0;34m,\u001b[0m \u001b[0mmax\u001b[0m\u001b[0;34m(\u001b[0m\u001b[0mt\u001b[0m\u001b[0;34m)\u001b[0m\u001b[0;34m]\u001b[0m\u001b[0;34m)\u001b[0m\u001b[0;34m\u001b[0m\u001b[0;34m\u001b[0m\u001b[0m\n",
      "\u001b[0;32m<ipython-input-30-338a3b1b1c58>\u001b[0m in \u001b[0;36mTrain\u001b[0;34m(self, modelIN, DataIN, LabelsIN, L1perUnit, UseGPU, Name, Folder)\u001b[0m\n\u001b[1;32m    165\u001b[0m             \u001b[0;31m#print(\"epoch\")\u001b[0m\u001b[0;34m\u001b[0m\u001b[0;34m\u001b[0m\u001b[0;34m\u001b[0m\u001b[0m\n\u001b[1;32m    166\u001b[0m             \u001b[0mOptimiser\u001b[0m\u001b[0;34m.\u001b[0m\u001b[0mzero_grad\u001b[0m\u001b[0;34m(\u001b[0m\u001b[0;34m)\u001b[0m\u001b[0;34m\u001b[0m\u001b[0;34m\u001b[0m\u001b[0m\n\u001b[0;32m--> 167\u001b[0;31m             \u001b[0moutput\u001b[0m          \u001b[0;34m=\u001b[0m \u001b[0mmodel\u001b[0m\u001b[0;34m.\u001b[0m\u001b[0mForward\u001b[0m\u001b[0;34m(\u001b[0m\u001b[0mData\u001b[0m\u001b[0;34m)\u001b[0m\u001b[0;34m\u001b[0m\u001b[0;34m\u001b[0m\u001b[0m\n\u001b[0m\u001b[1;32m    168\u001b[0m             \u001b[0mloss\u001b[0m            \u001b[0;34m=\u001b[0m \u001b[0mself\u001b[0m\u001b[0;34m.\u001b[0m\u001b[0mCriterion\u001b[0m\u001b[0;34m(\u001b[0m\u001b[0moutput\u001b[0m\u001b[0;34m,\u001b[0m \u001b[0mLabels\u001b[0m\u001b[0;34m,\u001b[0m \u001b[0mself\u001b[0m\u001b[0;34m.\u001b[0m\u001b[0mExpoverR\u001b[0m\u001b[0;34m)\u001b[0m\u001b[0;34m\u001b[0m\u001b[0;34m\u001b[0m\u001b[0m\n\u001b[1;32m    169\u001b[0m             \u001b[0mprint\u001b[0m \u001b[0;34m(\u001b[0m\u001b[0;34m\"t = \"\u001b[0m \u001b[0;34m+\u001b[0m \u001b[0mstr\u001b[0m\u001b[0;34m(\u001b[0m\u001b[0;34m-\u001b[0m\u001b[0;36m2.\u001b[0m\u001b[0;34m*\u001b[0m\u001b[0mloss\u001b[0m\u001b[0;34m.\u001b[0m\u001b[0mitem\u001b[0m\u001b[0;34m(\u001b[0m\u001b[0;34m)\u001b[0m\u001b[0;34m)\u001b[0m \u001b[0;34m+\u001b[0m  \u001b[0;34m\" at epoch = \"\u001b[0m \u001b[0;34m+\u001b[0m \u001b[0mstr\u001b[0m\u001b[0;34m(\u001b[0m\u001b[0me\u001b[0m\u001b[0;34m)\u001b[0m\u001b[0;34m,\u001b[0m \u001b[0mend\u001b[0m\u001b[0;34m=\u001b[0m\u001b[0;34m'\\r'\u001b[0m\u001b[0;34m)\u001b[0m\u001b[0;34m\u001b[0m\u001b[0;34m\u001b[0m\u001b[0m\n",
      "\u001b[0;32m<ipython-input-30-338a3b1b1c58>\u001b[0m in \u001b[0;36mForward\u001b[0;34m(self, Data)\u001b[0m\n\u001b[1;32m     40\u001b[0m             \u001b[0;32mraise\u001b[0m \u001b[0mValueError\u001b[0m\u001b[0;34m\u001b[0m\u001b[0;34m\u001b[0m\u001b[0m\n\u001b[1;32m     41\u001b[0m         \u001b[0;32mwith\u001b[0m \u001b[0mtorch\u001b[0m\u001b[0;34m.\u001b[0m\u001b[0mno_grad\u001b[0m\u001b[0;34m(\u001b[0m\u001b[0;34m)\u001b[0m\u001b[0;34m:\u001b[0m\u001b[0;34m\u001b[0m\u001b[0;34m\u001b[0m\u001b[0m\n\u001b[0;32m---> 42\u001b[0;31m             \u001b[0mData\u001b[0m \u001b[0;34m=\u001b[0m \u001b[0mself\u001b[0m\u001b[0;34m.\u001b[0m\u001b[0mPreprocess\u001b[0m\u001b[0;34m(\u001b[0m\u001b[0mData\u001b[0m\u001b[0;34m)\u001b[0m\u001b[0;34m\u001b[0m\u001b[0;34m\u001b[0m\u001b[0m\n\u001b[0m\u001b[1;32m     43\u001b[0m \u001b[0;34m\u001b[0m\u001b[0m\n\u001b[1;32m     44\u001b[0m         \u001b[0mx\u001b[0m \u001b[0;34m=\u001b[0m \u001b[0mData\u001b[0m\u001b[0;34m\u001b[0m\u001b[0;34m\u001b[0m\u001b[0m\n",
      "\u001b[0;32m<ipython-input-30-338a3b1b1c58>\u001b[0m in \u001b[0;36mPreprocess\u001b[0;34m(self, Data)\u001b[0m\n\u001b[1;32m     89\u001b[0m \u001b[0;31m### Takes as input Data and Parameters as Torch tensors.\u001b[0m\u001b[0;34m\u001b[0m\u001b[0;34m\u001b[0m\u001b[0;34m\u001b[0m\u001b[0m\n\u001b[1;32m     90\u001b[0m         \u001b[0;32mif\u001b[0m  \u001b[0;32mnot\u001b[0m \u001b[0mhasattr\u001b[0m\u001b[0;34m(\u001b[0m\u001b[0mself\u001b[0m\u001b[0;34m,\u001b[0m \u001b[0;34m'Scaling'\u001b[0m\u001b[0;34m)\u001b[0m\u001b[0;34m:\u001b[0m \u001b[0mprint\u001b[0m\u001b[0;34m(\u001b[0m\u001b[0;34m'Preprocess parameters are not initialized.'\u001b[0m\u001b[0;34m)\u001b[0m\u001b[0;34m\u001b[0m\u001b[0;34m\u001b[0m\u001b[0m\n\u001b[0;32m---> 91\u001b[0;31m         \u001b[0mData\u001b[0m \u001b[0;34m=\u001b[0m \u001b[0;34m(\u001b[0m\u001b[0mData\u001b[0m \u001b[0;34m-\u001b[0m \u001b[0mself\u001b[0m\u001b[0;34m.\u001b[0m\u001b[0mShift\u001b[0m\u001b[0;34m)\u001b[0m\u001b[0;34m/\u001b[0m\u001b[0mself\u001b[0m\u001b[0;34m.\u001b[0m\u001b[0mScaling\u001b[0m\u001b[0;34m\u001b[0m\u001b[0;34m\u001b[0m\u001b[0m\n\u001b[0m\u001b[1;32m     92\u001b[0m         \u001b[0;32mreturn\u001b[0m \u001b[0mData\u001b[0m\u001b[0;34m\u001b[0m\u001b[0;34m\u001b[0m\u001b[0m\n\u001b[1;32m     93\u001b[0m \u001b[0;34m\u001b[0m\u001b[0m\n",
      "\u001b[0;31mKeyboardInterrupt\u001b[0m: "
     ]
    }
   ],
   "source": [
    "torch.manual_seed(0)\n",
    "RF = DataFile('Reference_sample/1.h5')\n",
    "DF = DataFile('SM_toys/4.h5')\n",
    "Nexp = 2000.\n",
    "NRef = RF.Data.size()[0]\n",
    "print('\\nReference data lenght = ', NRef)\n",
    "TData, TLabels = TrainingDataSample(RF.Data, DF.Data)\n",
    "print('\\nTotal number of training points  = ', TData.size(0))\n",
    "MD = OurModel(AR = [1, 4, 1], AF = 'Sigmoid' )\n",
    "MD.double()\n",
    "MD.InitPreprocess(TData)\n",
    "MD.Report()\n",
    "MT = OurTrainer(Nexp/NRef, NumEpochs = 10000, LearningRate = 1e-3, Optimiser = 'Adam')\n",
    "start = time.time()\n",
    "epoch, t = MT.Train(MD, TData, TLabels, UseGPU = False)\n",
    "print('Training time = ' + str((time.time()-start)/60.))\n",
    "plt.axis([0, max(epoch), 0, max(t)])\n",
    "plt.plot(epoch,t)"
   ]
  },
  {
   "cell_type": "code",
   "execution_count": 23,
   "metadata": {},
   "outputs": [
    {
     "name": "stdout",
     "output_type": "stream",
     "text": [
      "\n",
      "Reading file ...Reference_sample/1.h5\n",
      "\n",
      "Reading file ...BSM_toys/4.h5\n",
      "\n",
      "Reference data lenght =  200000\n",
      "\n",
      "Total number of training points  =  201911\n",
      "\n",
      "Initializing Preprocesses Variables\n",
      "\n",
      "Model Report:\n",
      "Preprocess Initialized: True\n",
      "Architecture: [1, 4, 1]\n",
      "Activation: <built-in method sigmoid of type object at 0x7f340375fc40>\n",
      "300\n",
      "0.19603093055013687\n",
      "14000\n",
      "0.019555214454783254\n",
      "54200\n",
      "0.0019290559847036093\n",
      "80900\n",
      "0.00019243918812605898\n",
      "22.259841637401635\n",
      "Training time = 17.118347283204397\n"
     ]
    },
    {
     "data": {
      "text/plain": [
       "[<matplotlib.lines.Line2D at 0x7f33ac5dc810>]"
      ]
     },
     "execution_count": 23,
     "metadata": {},
     "output_type": "execute_result"
    },
    {
     "data": {
      "image/png": "[encoded data removed]",
      "text/plain": [
       "<Figure size 432x288 with 1 Axes>"
      ]
     },
     "metadata": {
      "needs_background": "light"
     },
     "output_type": "display_data"
    }
   ],
   "source": [
    "torch.manual_seed(0)\n",
    "RF = DataFile('Reference_sample/1.h5')\n",
    "DF = DataFile('BSM_toys/4.h5')\n",
    "Nexp = 2000.\n",
    "NRef = RF.Data.size()[0]\n",
    "print('\\nReference data lenght = ', NRef)\n",
    "TData, TLabels = TrainingDataSample(RF.Data, DF.Data)\n",
    "print('\\nTotal number of training points  = ', TData.size(0))\n",
    "MD = OurModel(AR = [1, 4, 1], AF = 'Sigmoid' )\n",
    "MD.double()\n",
    "MD.InitPreprocess(TData)\n",
    "MD.Report()\n",
    "MT = OurTrainer(Nexp/NRef, NumEpochs = 100000, LearningRate = 1e-3, Optimiser = 'Adam')\n",
    "start = time.time()\n",
    "epoch, t = MT.Train1(MD, TData, TLabels, UseGPU = True)\n",
    "print('Training time = ' + str((time.time()-start)/60.))\n",
    "plt.axis([0, 100000, 0, max(t)])\n",
    "plt.plot(epoch,t)"
   ]
  },
  {
   "cell_type": "code",
   "execution_count": 26,
   "metadata": {},
   "outputs": [
    {
     "name": "stdout",
     "output_type": "stream",
     "text": [
      "\n",
      "Reading file ...Reference_sample/1.h5\n",
      "\n",
      "Reading file ...BSM_toys/4.h5\n",
      "\n",
      "Reference data lenght =  200000\n",
      "\n",
      "Total number of training points  =  201911\n",
      "\n",
      "Initializing Preprocesses Variables\n",
      "\n",
      "Model Report:\n",
      "Preprocess Initialized: True\n",
      "Architecture: [1, 4, 1]\n",
      "Activation: <built-in method sigmoid of type object at 0x7f340375fc40>\n",
      "Training time = 18.03987449804941899999\n"
     ]
    },
    {
     "data": {
      "text/plain": [
       "[<matplotlib.lines.Line2D at 0x7f33ac4df210>]"
      ]
     },
     "execution_count": 26,
     "metadata": {},
     "output_type": "execute_result"
    },
    {
     "data": {
      "image/png": "[encoded data removed]",
      "text/plain": [
       "<Figure size 432x288 with 1 Axes>"
      ]
     },
     "metadata": {
      "needs_background": "light"
     },
     "output_type": "display_data"
    }
   ],
   "source": [
    "torch.manual_seed(0)\n",
    "RF = DataFile('Reference_sample/1.h5')\n",
    "DF = DataFile('BSM_toys/4.h5')\n",
    "Nexp = 2000.\n",
    "NRef = RF.Data.size()[0]\n",
    "print('\\nReference data lenght = ', NRef)\n",
    "TData, TLabels = TrainingDataSample(RF.Data, DF.Data)\n",
    "print('\\nTotal number of training points  = ', TData.size(0))\n",
    "MD = OurModel(AR = [1, 4, 1], AF = 'Sigmoid' )\n",
    "MD.double()\n",
    "MD.InitPreprocess(TData)\n",
    "MD.Report()\n",
    "MT = OurTrainer(Nexp/NRef, NumEpochs = 100000, LearningRate = 1e-3, Optimiser = 'Adam')\n",
    "start = time.time()\n",
    "epoch, t = MT.Train(MD, TData, TLabels, UseGPU = True)\n",
    "print('Training time = ' + str((time.time()-start)/60.))\n",
    "plt.axis([0, 100000, 0, max(t)])\n",
    "plt.plot(epoch,t)"
   ]
  },
  {
   "cell_type": "code",
   "execution_count": 27,
   "metadata": {},
   "outputs": [
    {
     "name": "stdout",
     "output_type": "stream",
     "text": [
      "\n",
      "Reading file ...Reference_sample/1.h5\n",
      "\n",
      "Reading file ...BSM_toys/4.h5\n",
      "\n",
      "Reference data lenght =  200000\n",
      "\n",
      "Total number of training points  =  201911\n",
      "\n",
      "Initializing Preprocesses Variables\n",
      "\n",
      "Model Report:\n",
      "Preprocess Initialized: True\n",
      "Architecture: [1, 4, 1]\n",
      "Activation: <built-in method relu of type object at 0x7f340375fc40>\n",
      "Training time = 17.654593197504678999993\n"
     ]
    },
    {
     "data": {
      "text/plain": [
       "[<matplotlib.lines.Line2D at 0x7f33ac415790>]"
      ]
     },
     "execution_count": 27,
     "metadata": {},
     "output_type": "execute_result"
    },
    {
     "data": {
      "image/png": "[encoded data removed]",
      "text/plain": [
       "<Figure size 432x288 with 1 Axes>"
      ]
     },
     "metadata": {
      "needs_background": "light"
     },
     "output_type": "display_data"
    }
   ],
   "source": [
    "torch.manual_seed(0)\n",
    "RF = DataFile('Reference_sample/1.h5')\n",
    "DF = DataFile('BSM_toys/4.h5')\n",
    "Nexp = 2000.\n",
    "NRef = RF.Data.size()[0]\n",
    "print('\\nReference data lenght = ', NRef)\n",
    "TData, TLabels = TrainingDataSample(RF.Data, DF.Data)\n",
    "print('\\nTotal number of training points  = ', TData.size(0))\n",
    "MD = OurModel(AR = [1, 4, 1], AF = 'ReLU' )\n",
    "MD.double()\n",
    "MD.InitPreprocess(TData)\n",
    "MD.Report()\n",
    "MT = OurTrainer(Nexp/NRef, NumEpochs = 100000, LearningRate = 1e-3, Optimiser = 'Adam')\n",
    "start = time.time()\n",
    "epoch, t = MT.Train(MD, TData, TLabels, UseGPU = True)\n",
    "print('Training time = ' + str((time.time()-start)/60.))\n",
    "plt.axis([0, 100000, 0, max(t)])\n",
    "plt.plot(epoch,t)"
   ]
  },
  {
   "cell_type": "code",
   "execution_count": 28,
   "metadata": {},
   "outputs": [
    {
     "name": "stdout",
     "output_type": "stream",
     "text": [
      "\n",
      "Reading file ...Reference_sample/1.h5\n",
      "\n",
      "Reading file ...BSM_toys/4.h5\n",
      "\n",
      "Reference data lenght =  200000\n",
      "\n",
      "Total number of training points  =  201911\n",
      "\n",
      "Initializing Preprocesses Variables\n",
      "\n",
      "Model Report:\n",
      "Preprocess Initialized: True\n",
      "Architecture: [1, 4, 1]\n",
      "Activation: <built-in method relu of type object at 0x7f340375fc40>\n",
      "400\n",
      "0.19692784137018293\n",
      "1900\n",
      "0.014499598145619075\n",
      "2400\n",
      "0.0013415239864684736\n",
      "3000\n",
      "8.427488091911073e-05\n",
      "3100\n",
      "1.8630029927635405e-06\n",
      "3900\n",
      "1.5241630535456352e-07\n",
      "14300\n",
      "1.2772289892382105e-08\n",
      "12.614463713482706\n",
      "Training time = 16.59430354833603\n"
     ]
    },
    {
     "data": {
      "text/plain": [
       "[<matplotlib.lines.Line2D at 0x7f33ac5a1550>]"
      ]
     },
     "execution_count": 28,
     "metadata": {},
     "output_type": "execute_result"
    },
    {
     "data": {
      "image/png": "[encoded data removed]",
      "text/plain": [
       "<Figure size 432x288 with 1 Axes>"
      ]
     },
     "metadata": {
      "needs_background": "light"
     },
     "output_type": "display_data"
    }
   ],
   "source": [
    "torch.manual_seed(0)\n",
    "RF = DataFile('Reference_sample/1.h5')\n",
    "DF = DataFile('BSM_toys/4.h5')\n",
    "Nexp = 2000.\n",
    "NRef = RF.Data.size()[0]\n",
    "print('\\nReference data lenght = ', NRef)\n",
    "TData, TLabels = TrainingDataSample(RF.Data, DF.Data)\n",
    "print('\\nTotal number of training points  = ', TData.size(0))\n",
    "MD = OurModel(AR = [1, 4, 1], AF = 'ReLU' )\n",
    "MD.double()\n",
    "MD.InitPreprocess(TData)\n",
    "MD.Report()\n",
    "MT = OurTrainer(Nexp/NRef, NumEpochs = 100000, LearningRate = 1e-3, Optimiser = 'Adam')\n",
    "start = time.time()\n",
    "epoch, t = MT.Train1(MD, TData, TLabels, UseGPU = True)\n",
    "print('Training time = ' + str((time.time()-start)/60.))\n",
    "plt.axis([0, 100000, 0, max(t)])\n",
    "plt.plot(epoch,t)"
   ]
  },
  {
   "cell_type": "code",
   "execution_count": 35,
   "metadata": {},
   "outputs": [
    {
     "name": "stdout",
     "output_type": "stream",
     "text": [
      "\n",
      "Reading file ...Reference_sample/1.h5\n",
      "\n",
      "Reading file ...BSM_toys/40.h5\n",
      "\n",
      "Reference data lenght =  200000\n",
      "\n",
      "Total number of training points  =  201999\n",
      "\n",
      "Initializing Preprocesses Variables\n",
      "\n",
      "Model Report:\n",
      "Preprocess Initialized: True\n",
      "Architecture: [1, 4, 1]\n",
      "Activation: <built-in method sigmoid of type object at 0x11d7dbad0>\n",
      "300\n",
      "0.5612710383566691\n",
      "21.363040359711167\n",
      "Training time = 4.099389517307282\n"
     ]
    },
    {
     "data": {
      "text/plain": [
       "[<matplotlib.lines.Line2D at 0x128c862d0>]"
      ]
     },
     "execution_count": 35,
     "metadata": {},
     "output_type": "execute_result"
    },
    {
     "data": {
      "image/png": "[encoded data removed]",
      "text/plain": [
       "<Figure size 432x288 with 1 Axes>"
      ]
     },
     "metadata": {
      "needs_background": "light"
     },
     "output_type": "display_data"
    }
   ],
   "source": [
    "torch.manual_seed(0)\n",
    "RF = DataFile('Reference_sample/1.h5')\n",
    "DF = DataFile('BSM_toys/40.h5')\n",
    "Nexp = 2000.\n",
    "NRef = RF.Data.size()[0]\n",
    "print('\\nReference data lenght = ', NRef)\n",
    "TData, TLabels = TrainingDataSample(RF.Data, DF.Data)\n",
    "print('\\nTotal number of training points  = ', TData.size(0))\n",
    "MD = OurModel(AR = [1, 4, 1], AF = 'Sigmoid' )\n",
    "MD.double()\n",
    "MD.InitPreprocess(TData)\n",
    "MD.Report()\n",
    "MT = OurTrainer(Nexp/NRef, NumEpochs = 10000, LearningRate = 1e-3, Optimiser = 'Adam')\n",
    "start = time.time()\n",
    "epoch, t = MT.Train1(MD, TData, TLabels, UseGPU = False)\n",
    "print('Training time = ' + str((time.time()-start)/60.))\n",
    "plt.axis([0, 10000, 0, max(t)])\n",
    "plt.plot(epoch,t)"
   ]
  },
  {
   "cell_type": "code",
   "execution_count": 36,
   "metadata": {},
   "outputs": [
    {
     "name": "stdout",
     "output_type": "stream",
     "text": [
      "\n",
      "Reading file ...Reference_sample/1.h5\n",
      "\n",
      "Reading file ...BSM_toys/40.h5\n",
      "\n",
      "Reference data lenght =  200000\n",
      "\n",
      "Total number of training points  =  201999\n",
      "\n",
      "Initializing Preprocesses Variables\n",
      "\n",
      "Model Report:\n",
      "Preprocess Initialized: True\n",
      "Architecture: [1, 4, 1]\n",
      "Activation: <built-in method sigmoid of type object at 0x11d7dbad0>\n",
      "Training time = 3.7752942482630414999909\n"
     ]
    },
    {
     "data": {
      "text/plain": [
       "[<matplotlib.lines.Line2D at 0x12a3e0490>]"
      ]
     },
     "execution_count": 36,
     "metadata": {},
     "output_type": "execute_result"
    },
    {
     "data": {
      "image/png": "[encoded data removed]",
      "text/plain": [
       "<Figure size 432x288 with 1 Axes>"
      ]
     },
     "metadata": {
      "needs_background": "light"
     },
     "output_type": "display_data"
    }
   ],
   "source": [
    "torch.manual_seed(0)\n",
    "RF = DataFile('Reference_sample/1.h5')\n",
    "DF = DataFile('BSM_toys/40.h5')\n",
    "Nexp = 2000.\n",
    "NRef = RF.Data.size()[0]\n",
    "print('\\nReference data lenght = ', NRef)\n",
    "TData, TLabels = TrainingDataSample(RF.Data, DF.Data)\n",
    "print('\\nTotal number of training points  = ', TData.size(0))\n",
    "MD = OurModel(AR = [1, 4, 1], AF = 'Sigmoid' )\n",
    "MD.double()\n",
    "MD.InitPreprocess(TData)\n",
    "MD.Report()\n",
    "MT = OurTrainer(Nexp/NRef, NumEpochs = 10000, LearningRate = 1e-3, Optimiser = 'Adam')\n",
    "start = time.time()\n",
    "epoch, t = MT.Train(MD, TData, TLabels, UseGPU = False)\n",
    "print('Training time = ' + str((time.time()-start)/60.))\n",
    "plt.axis([0, 10000, 0, max(t)])\n",
    "plt.plot(epoch,t)"
   ]
  },
  {
   "cell_type": "code",
   "execution_count": 22,
   "metadata": {},
   "outputs": [
    {
     "name": "stdout",
     "output_type": "stream",
     "text": [
      "\n",
      "Reading file ...Reference_sample/1.h5\n",
      "\n",
      "Reading file ...BSM_toys/4.h5\n",
      "\n",
      "Reference data lenght =  200000\n",
      "\n",
      "Total number of training points  =  201911\n",
      "\n",
      "Initializing Preprocesses Variables\n",
      "\n",
      "Model Report:\n",
      "Preprocess Initialized: True\n",
      "Architecture: [1, 4, 1]\n",
      "Activation: <built-in method sigmoid of type object at 0x7f340375fc40>\n",
      "300\n",
      "0.24333550223671452\n",
      "17.67702529853623\n",
      "Training time = 1.929845404624939\n"
     ]
    },
    {
     "data": {
      "text/plain": [
       "[<matplotlib.lines.Line2D at 0x7f33ac506d10>]"
      ]
     },
     "execution_count": 22,
     "metadata": {},
     "output_type": "execute_result"
    },
    {
     "data": {
      "image/png": "[encoded data removed]",
      "text/plain": [
       "<Figure size 432x288 with 1 Axes>"
      ]
     },
     "metadata": {
      "needs_background": "light"
     },
     "output_type": "display_data"
    }
   ],
   "source": [
    "RF = DataFile('Reference_sample/1.h5')\n",
    "DF = DataFile('BSM_toys/4.h5')\n",
    "Nexp = 2000.\n",
    "NRef = RF.Data.size()[0]\n",
    "print('\\nReference data lenght = ', NRef)\n",
    "TData, TLabels = TrainingDataSample(RF.Data, DF.Data)\n",
    "print('\\nTotal number of training points  = ', TData.size(0))\n",
    "MD = OurModel(AR = [1, 4, 1], AF = 'Sigmoid' )\n",
    "MD.double()\n",
    "MD.InitPreprocess(TData)\n",
    "MD.Report()\n",
    "MT = OurTrainer(Nexp/NRef, NumEpochs = 10000, LearningRate = 1e-3, Optimiser = 'Adam')\n",
    "start = time.time()\n",
    "epoch, t = MT.Train1(MD, TData, TLabels, UseGPU = False)\n",
    "print('Training time = ' + str((time.time()-start)/60.))\n",
    "plt.axis([0, 10000, 0, max(t)])\n",
    "plt.plot(epoch,t)"
   ]
  },
  {
   "cell_type": "code",
   "execution_count": 14,
   "metadata": {},
   "outputs": [
    {
     "name": "stdout",
     "output_type": "stream",
     "text": [
      "\n",
      "Reading file ...Reference_sample/1.h5\n",
      "\n",
      "Reading file ...BSM_toys/4.h5\n",
      "\n",
      "Reference data lenght =  200000\n",
      "\n",
      "Total number of training points  =  201911\n",
      "\n",
      "Initializing Preprocesses Variables\n",
      "\n",
      "Model Report:\n",
      "Preprocess Initialized: True\n",
      "Architecture: [1, 4, 1]\n",
      "Activation: <built-in method sigmoid of type object at 0x11d7dbad0>\n",
      "100\n",
      "0.14482027918538698\n",
      "4.595478043593705\n"
     ]
    },
    {
     "data": {
      "text/plain": [
       "[<matplotlib.lines.Line2D at 0x127c77e10>]"
      ]
     },
     "execution_count": 14,
     "metadata": {},
     "output_type": "execute_result"
    },
    {
     "data": {
      "image/png": "[encoded data removed]",
      "text/plain": [
       "<Figure size 432x288 with 1 Axes>"
      ]
     },
     "metadata": {
      "needs_background": "light"
     },
     "output_type": "display_data"
    }
   ],
   "source": [
    "torch.manual_seed(0)\n",
    "RF = DataFile('Reference_sample/1.h5')\n",
    "DF = DataFile('BSM_toys/4.h5')\n",
    "Nexp = 2000.\n",
    "NRef = RF.Data.size()[0]\n",
    "print('\\nReference data lenght = ', NRef)\n",
    "TData, TLabels = TrainingDataSample(RF.Data, DF.Data)\n",
    "print('\\nTotal number of training points  = ', TData.size(0))\n",
    "MD = OurModel(AR = [1, 4, 1], AF = 'Sigmoid' )\n",
    "MD.double()\n",
    "MD.InitPreprocess(TData)\n",
    "MD.Report()\n",
    "MT = OurTrainer(Nexp/NRef, NumEpochs = 2000, LearningRate = 1e-4, Optimiser = 'SGD')\n",
    "epoch, t = MT.Train1(MD, TData, TLabels, UseGPU = False)\n",
    "plt.axis([0, 2000, 0, 20])\n",
    "plt.plot(epoch,t)"
   ]
  },
  {
   "cell_type": "code",
   "execution_count": 298,
   "metadata": {},
   "outputs": [
    {
     "name": "stdout",
     "output_type": "stream",
     "text": [
      "\n",
      "Reading file ...Reference_sample/1.h5\n",
      "\n",
      "Reading file ...BSM_toys/4.h5\n",
      "\n",
      "Reference data lenght =  200000\n",
      "\n",
      "Total number of training points  =  201911\n",
      "\n",
      "Initializing Preprocesses Variables\n",
      "\n",
      "Model Report:\n",
      "Preprocess Initialized: True\n",
      "Architecture: [1, 4, 1]\n",
      "Activation: <built-in method sigmoid of type object at 0x113236ad0>\n",
      "200\n",
      "0.14326911428355604\n",
      "12.892496913759976\n"
     ]
    },
    {
     "data": {
      "text/plain": [
       "[<matplotlib.lines.Line2D at 0x1257f5950>]"
      ]
     },
     "execution_count": 298,
     "metadata": {},
     "output_type": "execute_result"
    },
    {
     "data": {
      "image/png": "[encoded data removed]",
      "text/plain": [
       "<Figure size 432x288 with 1 Axes>"
      ]
     },
     "metadata": {
      "needs_background": "light"
     },
     "output_type": "display_data"
    }
   ],
   "source": [
    "torch.manual_seed(1)\n",
    "RF = DataFile('Reference_sample/1.h5')\n",
    "DF = DataFile('BSM_toys/4.h5')\n",
    "Nexp = 2000.\n",
    "NRef = RF.Data.size()[0]\n",
    "print('\\nReference data lenght = ', NRef)\n",
    "TData, TLabels = TrainingDataSample(RF.Data, DF.Data)\n",
    "print('\\nTotal number of training points  = ', TData.size(0))\n",
    "MD = OurModel(AR = [1, 4, 1], AF = 'Sigmoid' )\n",
    "MD.double()\n",
    "MD.InitPreprocess(TData)\n",
    "MD.Report()\n",
    "MT = OurTrainer(Nexp/NRef, NumEpochs = 3000, LearningRate = 1e-3, Optimiser = 'Adam')\n",
    "epoch, t = MT.Train1(MD, TData, TLabels)\n",
    "plt.axis([0, 2000, 0, 20])\n",
    "plt.plot(epoch,t)"
   ]
  },
  {
   "cell_type": "code",
   "execution_count": 234,
   "metadata": {},
   "outputs": [
    {
     "name": "stdout",
     "output_type": "stream",
     "text": [
      "\n",
      "Reading file ...Reference_sample/1.h5\n",
      "\n",
      "Reading file ...BSM_toys/4.h5\n",
      "\n",
      "Reference data lenght =  200000\n",
      "\n",
      "Total number of training points  =  201911\n",
      "\n",
      "Initializing Preprocesses Variables\n",
      "\n",
      "Model Report:\n",
      "Preprocess Initialized: True\n",
      "Architecture: [1, 4, 1]\n",
      "Activation: <built-in method relu of type object at 0x113236ad0>\n",
      "t = 12.611328650459305 at epoch = 99953\r"
     ]
    },
    {
     "data": {
      "text/plain": [
       "[<matplotlib.lines.Line2D at 0x11f71bf50>]"
      ]
     },
     "execution_count": 234,
     "metadata": {},
     "output_type": "execute_result"
    },
    {
     "data": {
      "image/png": "[encoded data removed]",
      "text/plain": [
       "<Figure size 432x288 with 1 Axes>"
      ]
     },
     "metadata": {
      "needs_background": "light"
     },
     "output_type": "display_data"
    }
   ],
   "source": [
    "torch.manual_seed(0)\n",
    "RF = DataFile('Reference_sample/1.h5')\n",
    "DF = DataFile('BSM_toys/4.h5')\n",
    "Nexp = 2000.\n",
    "NRef = RF.Data.size()[0]\n",
    "print('\\nReference data lenght = ', NRef)\n",
    "TData, TLabels = TrainingDataSample(RF.Data, DF.Data)\n",
    "print('\\nTotal number of training points  = ', TData.size(0))\n",
    "MD = OurModel(AR = [1, 4, 1] )\n",
    "MD.double()\n",
    "MD.InitPreprocess(TData)\n",
    "MD.Report()\n",
    "MT = OurTrainer(Nexp/NRef, NumEpochs = 1000, LearningRate = 1e-3)\n",
    "epoch, t = MT.Train(MD, TData, TLabels)\n",
    "plt.axis([0, 1000, 0, 20])\n",
    "plt.plot(epoch,t)\n",
    "epoch, t = MT.Train(MD, TData, TLabels)\n",
    "plt.axis([0, 1000, 0, 20])\n",
    "plt.plot(epoch,t)\n",
    "epoch, t = MT.Train(MD, TData, TLabels)\n",
    "plt.axis([0, 1000, 0, 20])\n",
    "plt.plot(epoch,t)"
   ]
  },
  {
   "cell_type": "code",
   "execution_count": 190,
   "metadata": {},
   "outputs": [
    {
     "name": "stdout",
     "output_type": "stream",
     "text": [
      "\n",
      "Reading file ...Reference_sample/1.h5\n",
      "\n",
      "Reading file ...BSM_toys/4.h5\n",
      "\n",
      "Reference data lenght =  200000\n",
      "\n",
      "Total number of training points  =  201911\n",
      "\n",
      "Initializing Preprocesses Variables\n",
      "\n",
      "Model Report:\n",
      "Preprocess Initialized: True\n",
      "Architecture: [1, 4, 1]\n",
      "Activation: <built-in method relu of type object at 0x113236ad0>\n",
      "t = 12.611328650459305at epoch = 99953\r"
     ]
    },
    {
     "data": {
      "text/plain": [
       "[<matplotlib.lines.Line2D at 0x11e386fd0>]"
      ]
     },
     "execution_count": 190,
     "metadata": {},
     "output_type": "execute_result"
    },
    {
     "data": {
      "image/png": "[encoded data removed]",
      "text/plain": [
       "<Figure size 432x288 with 1 Axes>"
      ]
     },
     "metadata": {
      "needs_background": "light"
     },
     "output_type": "display_data"
    }
   ],
   "source": [
    "torch.manual_seed(0)\n",
    "RF = DataFile('Reference_sample/1.h5')\n",
    "DF = DataFile('BSM_toys/4.h5')\n",
    "Nexp = 2000.\n",
    "NRef = RF.Data.size()[0]\n",
    "print('\\nReference data lenght = ', NRef)\n",
    "TData, TLabels = TrainingDataSample(RF.Data, DF.Data)\n",
    "print('\\nTotal number of training points  = ', TData.size(0))\n",
    "MD = OurModel(AR = [1, 4, 1] )\n",
    "MD.double()\n",
    "MD.InitPreprocess(TData)\n",
    "MD.Report()\n",
    "MT = OurTrainer(Nexp/NRef, NumEpochs = 1000, LearningRate = 1e-3)\n",
    "epoch, t = MT.Train(MD, TData, TLabels)\n",
    "plt.axis([0, 1000, 0, 20])\n",
    "plt.plot(epoch,t)\n",
    "epoch, t = MT.Train(MD, TData, TLabels)\n",
    "plt.axis([0, 1000, 0, 20])\n",
    "plt.plot(epoch,t)\n",
    "epoch, t = MT.Train(MD, TData, TLabels)\n",
    "plt.axis([0, 1000, 0, 20])\n",
    "plt.plot(epoch,t)"
   ]
  },
  {
   "cell_type": "code",
   "execution_count": 219,
   "metadata": {},
   "outputs": [
    {
     "name": "stdout",
     "output_type": "stream",
     "text": [
      "\n",
      "Reading file ...Reference_sample/1.h5\n",
      "\n",
      "Reading file ...BSM_toys/4.h5\n",
      "\n",
      "Reference data lenght =  200000\n",
      "\n",
      "Total number of training points  =  201911\n",
      "\n",
      "Initializing Preprocesses Variables\n",
      "\n",
      "Model Report:\n",
      "Preprocess Initialized: True\n",
      "Architecture: [1, 4, 1]\n",
      "Activation: <built-in method relu of type object at 0x113236ad0>\n",
      "t = 12.60249492076866at epoch = 199998\r"
     ]
    },
    {
     "data": {
      "text/plain": [
       "[<matplotlib.lines.Line2D at 0x11dcda710>]"
      ]
     },
     "execution_count": 219,
     "metadata": {},
     "output_type": "execute_result"
    },
    {
     "data": {
      "image/png": "[encoded data removed]",
      "text/plain": [
       "<Figure size 432x288 with 1 Axes>"
      ]
     },
     "metadata": {
      "needs_background": "light"
     },
     "output_type": "display_data"
    }
   ],
   "source": [
    "torch.manual_seed(0)\n",
    "RF = DataFile('Reference_sample/1.h5')\n",
    "DF = DataFile('BSM_toys/4.h5')\n",
    "Nexp = 2000.\n",
    "NRef = RF.Data.size()[0]\n",
    "print('\\nReference data lenght = ', NRef)\n",
    "TData, TLabels = TrainingDataSample(RF.Data, DF.Data)\n",
    "print('\\nTotal number of training points  = ', TData.size(0))\n",
    "MD = OurModel(AR = [1, 4, 1] )\n",
    "MD.double()\n",
    "MD.InitPreprocess(TData)\n",
    "MD.Report()\n",
    "MT = OurTrainer(Nexp/NRef, NumEpochs = 400, LearningRate = 1e-3)\n",
    "epoch, t = MT.Train(MD, TData, TLabels)\n",
    "plt.axis([0, 1000, 0, 20])\n",
    "plt.plot(epoch,t)\n",
    "MT = OurTrainer(Nexp/NRef, NumEpochs = 1500, LearningRate = 1e-3)\n",
    "epoch, t = MT.Train(MD, TData, TLabels)\n",
    "plt.axis([0, 2000, 0, 20])\n",
    "plt.plot(epoch,t)\n",
    "MT = OurTrainer(Nexp/NRef, NumEpochs = 20000, LearningRate = 1e-3)\n",
    "epoch, t = MT.Train(MD, TData, TLabels)\n",
    "plt.axis([0, 20000, 0, 20])\n",
    "plt.plot(epoch,t)"
   ]
  },
  {
   "cell_type": "code",
   "execution_count": 220,
   "metadata": {},
   "outputs": [
    {
     "name": "stdout",
     "output_type": "stream",
     "text": [
      "\n",
      "Reading file ...Reference_sample/1.h5\n",
      "\n",
      "Reading file ...BSM_toys/4.h5\n",
      "\n",
      "Reference data lenght =  200000\n",
      "\n",
      "Total number of training points  =  201911\n",
      "\n",
      "Initializing Preprocesses Variables\n",
      "\n",
      "Model Report:\n",
      "Preprocess Initialized: True\n",
      "Architecture: [1, 4, 1]\n",
      "Activation: <built-in method relu of type object at 0x113236ad0>\n",
      "t = 15.605611382887846at epoch = 9997\r"
     ]
    },
    {
     "data": {
      "text/plain": [
       "[<matplotlib.lines.Line2D at 0x11d6f4e90>]"
      ]
     },
     "execution_count": 220,
     "metadata": {},
     "output_type": "execute_result"
    },
    {
     "data": {
      "image/png": "[encoded data removed]",
      "text/plain": [
       "<Figure size 432x288 with 1 Axes>"
      ]
     },
     "metadata": {
      "needs_background": "light"
     },
     "output_type": "display_data"
    }
   ],
   "source": [
    "torch.manual_seed(1)\n",
    "RF = DataFile('Reference_sample/1.h5')\n",
    "DF = DataFile('BSM_toys/4.h5')\n",
    "Nexp = 2000.\n",
    "NRef = RF.Data.size()[0]\n",
    "print('\\nReference data lenght = ', NRef)\n",
    "TData, TLabels = TrainingDataSample(RF.Data, DF.Data)\n",
    "print('\\nTotal number of training points  = ', TData.size(0))\n",
    "MD = OurModel(AR = [1, 4, 1] )\n",
    "MD.double()\n",
    "MD.InitPreprocess(TData)\n",
    "MD.Report()\n",
    "MT = OurTrainer(Nexp/NRef, NumEpochs = 1000, LearningRate = 1e-3)\n",
    "epoch, t = MT.Train(MD, TData, TLabels)\n",
    "plt.axis([0, 1000, 0, 20])\n",
    "plt.plot(epoch,t)\n",
    "epoch, t = MT.Train(MD, TData, TLabels)\n",
    "plt.axis([0, 1000, 0, 20])\n",
    "plt.plot(epoch,t)\n",
    "epoch, t = MT.Train(MD, TData, TLabels)\n",
    "plt.axis([0, 1000, 0, 20])\n",
    "plt.plot(epoch,t)"
   ]
  },
  {
   "cell_type": "code",
   "execution_count": 238,
   "metadata": {},
   "outputs": [
    {
     "name": "stdout",
     "output_type": "stream",
     "text": [
      "\n",
      "Reading file ...Reference_sample/1.h5\n",
      "\n",
      "Reading file ...BSM_toys/4.h5\n",
      "\n",
      "Reference data lenght =  200000\n",
      "\n",
      "Total number of training points  =  201911\n",
      "\n",
      "Initializing Preprocesses Variables\n",
      "\n",
      "Model Report:\n",
      "Preprocess Initialized: True\n",
      "Architecture: [1, 4, 1]\n",
      "Activation: <built-in method relu of type object at 0x113236ad0>\n",
      "t = 6.1079562819592965 at epoch = 99958\r"
     ]
    },
    {
     "data": {
      "text/plain": [
       "[<matplotlib.lines.Line2D at 0x120cecf10>]"
      ]
     },
     "execution_count": 238,
     "metadata": {},
     "output_type": "execute_result"
    },
    {
     "data": {
      "image/png": "[encoded data removed]",
      "text/plain": [
       "<Figure size 432x288 with 1 Axes>"
      ]
     },
     "metadata": {
      "needs_background": "light"
     },
     "output_type": "display_data"
    }
   ],
   "source": [
    "torch.manual_seed(1)\n",
    "RF = DataFile('Reference_sample/1.h5')\n",
    "DF = DataFile('BSM_toys/4.h5')\n",
    "Nexp = 2000.\n",
    "NRef = RF.Data.size()[0]\n",
    "print('\\nReference data lenght = ', NRef)\n",
    "TData, TLabels = TrainingDataSample(RF.Data, DF.Data)\n",
    "print('\\nTotal number of training points  = ', TData.size(0))\n",
    "MD = OurModel(AR = [1, 4, 1] , WC = 0.01)\n",
    "MD.double()\n",
    "MD.InitPreprocess(TData)\n",
    "MD.Report()\n",
    "MT = OurTrainer(Nexp/NRef, NumEpochs = 1000, LearningRate = 1e-3)\n",
    "epoch, t = MT.Train(MD, TData, TLabels)\n",
    "plt.axis([0, 1000, 0, 20])\n",
    "plt.plot(epoch,t)\n",
    "epoch, t = MT.Train(MD, TData, TLabels)\n",
    "plt.axis([0, 1000, 0, 20])\n",
    "plt.plot(epoch,t)\n",
    "epoch, t = MT.Train(MD, TData, TLabels)\n",
    "plt.axis([0, 1000, 0, 20])\n",
    "plt.plot(epoch,t)"
   ]
  },
  {
   "cell_type": "code",
   "execution_count": 226,
   "metadata": {},
   "outputs": [
    {
     "name": "stdout",
     "output_type": "stream",
     "text": [
      "\n",
      "Reading file ...Reference_sample/1.h5\n",
      "\n",
      "Reading file ...SM_toys/2.h5\n",
      "\n",
      "Reference data lenght =  200000\n",
      "\n",
      "Total number of training points  =  202008\n",
      "\n",
      "Initializing Preprocesses Variables\n",
      "\n",
      "Model Report:\n",
      "Preprocess Initialized: True\n",
      "Architecture: [1, 4, 1]\n",
      "Activation: <built-in method relu of type object at 0x113236ad0>\n",
      "t = 3.30341303387735at epoch = 99998287\r"
     ]
    },
    {
     "data": {
      "text/plain": [
       "[<matplotlib.lines.Line2D at 0x11f5edfd0>]"
      ]
     },
     "execution_count": 226,
     "metadata": {},
     "output_type": "execute_result"
    },
    {
     "data": {
      "image/png": "[encoded data removed]",
      "text/plain": [
       "<Figure size 432x288 with 1 Axes>"
      ]
     },
     "metadata": {
      "needs_background": "light"
     },
     "output_type": "display_data"
    }
   ],
   "source": [
    "torch.manual_seed(1)\n",
    "RF = DataFile('Reference_sample/1.h5')\n",
    "DF = DataFile('SM_toys/2.h5')\n",
    "Nexp = 2000.\n",
    "NRef = RF.Data.size()[0]\n",
    "print('\\nReference data lenght = ', NRef)\n",
    "TData, TLabels = TrainingDataSample(RF.Data, DF.Data)\n",
    "print('\\nTotal number of training points  = ', TData.size(0))\n",
    "MD = OurModel(AR = [1, 4, 1] )\n",
    "MD.double()\n",
    "MD.InitPreprocess(TData)\n",
    "MD.Report()\n",
    "MT = OurTrainer(Nexp/NRef, NumEpochs = 1000, LearningRate = 1e-3)\n",
    "epoch, t = MT.Train(MD, TData, TLabels)\n",
    "plt.axis([0, 1000, 0, 20])\n",
    "plt.plot(epoch,t)\n",
    "epoch, t = MT.Train(MD, TData, TLabels)\n",
    "plt.axis([0, 1000, 0, 20])\n",
    "plt.plot(epoch,t)\n",
    "epoch, t = MT.Train(MD, TData, TLabels)\n",
    "plt.axis([0, 1000, 0, 20])\n",
    "plt.plot(epoch,t)"
   ]
  },
  {
   "cell_type": "code",
   "execution_count": 221,
   "metadata": {},
   "outputs": [
    {
     "name": "stdout",
     "output_type": "stream",
     "text": [
      "\n",
      "Reading file ...Reference_sample/1.h5\n",
      "\n",
      "Reading file ...BSM_toys/4.h5\n",
      "\n",
      "Reference data lenght =  200000\n",
      "\n",
      "Total number of training points  =  201911\n",
      "\n",
      "Initializing Preprocesses Variables\n",
      "\n",
      "Model Report:\n",
      "Preprocess Initialized: True\n",
      "Architecture: [1, 4, 1]\n",
      "Activation: <built-in method relu of type object at 0x113236ad0>\n",
      "t = 13.856962746197455at epoch = 2999\r"
     ]
    },
    {
     "data": {
      "text/plain": [
       "[<matplotlib.lines.Line2D at 0x11dcf5b50>]"
      ]
     },
     "execution_count": 221,
     "metadata": {},
     "output_type": "execute_result"
    },
    {
     "data": {
      "image/png": "[encoded data removed]",
      "text/plain": [
       "<Figure size 432x288 with 1 Axes>"
      ]
     },
     "metadata": {
      "needs_background": "light"
     },
     "output_type": "display_data"
    }
   ],
   "source": [
    "torch.manual_seed(1)\n",
    "RF = DataFile('Reference_sample/1.h5')\n",
    "DF = DataFile('BSM_toys/4.h5')\n",
    "Nexp = 2000.\n",
    "NRef = RF.Data.size()[0]\n",
    "print('\\nReference data lenght = ', NRef)\n",
    "TData, TLabels = TrainingDataSample(RF.Data, DF.Data)\n",
    "print('\\nTotal number of training points  = ', TData.size(0))\n",
    "MD = OurModel(AR = [1, 4, 1] )\n",
    "MD.double()\n",
    "MD.InitPreprocess(TData)\n",
    "MD.Report()\n",
    "MT = OurTrainer(Nexp/NRef, NumEpochs = 3000, LearningRate = 1e-3)\n",
    "epoch, t = MT.Train(MD, TData, TLabels)\n",
    "plt.axis([0, 3000, 0, 20])\n",
    "plt.plot(epoch,t)"
   ]
  },
  {
   "cell_type": "code",
   "execution_count": 191,
   "metadata": {},
   "outputs": [
    {
     "name": "stdout",
     "output_type": "stream",
     "text": [
      "\n",
      "Reading file ...Reference_sample/1.h5\n",
      "\n",
      "Reading file ...BSM_toys/4.h5\n",
      "\n",
      "Reference data lenght =  200000\n",
      "\n",
      "Total number of training points  =  201911\n",
      "\n",
      "Initializing Preprocesses Variables\n",
      "\n",
      "Model Report:\n",
      "Preprocess Initialized: True\n",
      "Architecture: [1, 4, 1]\n",
      "Activation: <built-in method relu of type object at 0x113236ad0>\n",
      "t = 12.591827235504521at epoch = 99993\r"
     ]
    },
    {
     "data": {
      "text/plain": [
       "12.591827235504521"
      ]
     },
     "execution_count": 191,
     "metadata": {},
     "output_type": "execute_result"
    },
    {
     "data": {
      "image/png": "[encoded data removed]",
      "text/plain": [
       "<Figure size 432x288 with 1 Axes>"
      ]
     },
     "metadata": {
      "needs_background": "light"
     },
     "output_type": "display_data"
    }
   ],
   "source": [
    "torch.manual_seed(0)\n",
    "RF = DataFile('Reference_sample/1.h5')\n",
    "DF = DataFile('BSM_toys/4.h5')\n",
    "Nexp = 2000.\n",
    "NRef = RF.Data.size()[0]\n",
    "print('\\nReference data lenght = ', NRef)\n",
    "TData, TLabels = TrainingDataSample(RF.Data, DF.Data)\n",
    "print('\\nTotal number of training points  = ', TData.size(0))\n",
    "MD = OurModel(AR = [1, 4, 1] )\n",
    "MD.double()\n",
    "MD.InitPreprocess(TData)\n",
    "MD.Report()\n",
    "MT = OurTrainer(Nexp/NRef, NumEpochs = 10000, LearningRate = 1e-3)\n",
    "epoch, t = MT.Train(MD, TData, TLabels)\n",
    "plt.axis([0, 10000, 0, 20])\n",
    "plt.plot(epoch,t)\n",
    "t[-1]"
   ]
  },
  {
   "cell_type": "code",
   "execution_count": 199,
   "metadata": {},
   "outputs": [
    {
     "name": "stdout",
     "output_type": "stream",
     "text": [
      "0.14600117181468697\n",
      "0.001171126126410016\n",
      "0.022899770520208307\n"
     ]
    }
   ],
   "source": [
    "print(t[6101]-t[6000])\n",
    "print(t[1100]-t[1000])\n",
    "print(t[9100]-t[9000])"
   ]
  },
  {
   "cell_type": "code",
   "execution_count": 188,
   "metadata": {},
   "outputs": [
    {
     "data": {
      "text/plain": [
       "6.237883447736048"
      ]
     },
     "execution_count": 188,
     "metadata": {},
     "output_type": "execute_result"
    }
   ],
   "source": [
    "t[999+10]"
   ]
  },
  {
   "cell_type": "code",
   "execution_count": 166,
   "metadata": {},
   "outputs": [
    {
     "name": "stdout",
     "output_type": "stream",
     "text": [
      "\n",
      "Reading file ...Reference_sample/1.h5\n",
      "\n",
      "Reading file ...BSM_toys/4.h5\n",
      "\n",
      "Reference data lenght =  200000\n",
      "\n",
      "Total number of training points  =  201911\n",
      "\n",
      "Initializing Preprocesses Variables\n",
      "\n",
      "Model Report:\n",
      "Preprocess Initialized: True\n",
      "Architecture: [1, 4, 1]\n",
      "Activation: <built-in method relu of type object at 0x113236ad0>\n",
      "t = 15.362259009937679at epoch = 9999405\r"
     ]
    },
    {
     "data": {
      "text/plain": [
       "[<matplotlib.lines.Line2D at 0x11c53aa50>]"
      ]
     },
     "execution_count": 166,
     "metadata": {},
     "output_type": "execute_result"
    },
    {
     "data": {
      "image/png": "[encoded data removed]",
      "text/plain": [
       "<Figure size 432x288 with 1 Axes>"
      ]
     },
     "metadata": {
      "needs_background": "light"
     },
     "output_type": "display_data"
    }
   ],
   "source": [
    "RF = DataFile('Reference_sample/1.h5')\n",
    "DF = DataFile('BSM_toys/4.h5')\n",
    "Nexp = 2000.\n",
    "NRef = RF.Data.size()[0]\n",
    "print('\\nReference data lenght = ', NRef)\n",
    "TData, TLabels = TrainingDataSample(RF.Data, DF.Data)\n",
    "print('\\nTotal number of training points  = ', TData.size(0))\n",
    "MD = OurModel(AR = [1, 4, 1] )\n",
    "MD.double()\n",
    "MD.InitPreprocess(TData)\n",
    "MD.Report()\n",
    "MT = OurTrainer(Nexp/NRef, NumEpochs = 10000, LearningRate = 1e-3)\n",
    "epoch, t = MT.Train(MD, TData, TLabels)\n",
    "plt.axis([0, 10000, 0, 20])\n",
    "plt.plot(epoch,t)"
   ]
  },
  {
   "cell_type": "code",
   "execution_count": 169,
   "metadata": {},
   "outputs": [
    {
     "name": "stdout",
     "output_type": "stream",
     "text": [
      "\n",
      "Reading file ...Reference_sample/1.h5\n",
      "\n",
      "Reading file ...BSM_toys/4.h5\n",
      "\n",
      "Reference data lenght =  200000\n",
      "\n",
      "Total number of training points  =  201911\n",
      "\n",
      "Initializing Preprocesses Variables\n",
      "\n",
      "Model Report:\n",
      "Preprocess Initialized: True\n",
      "Architecture: [1, 4, 1]\n",
      "Activation: <built-in method relu of type object at 0x113236ad0>\n",
      "t = 4.2120918891327at epoch = 999998365\r"
     ]
    },
    {
     "data": {
      "text/plain": [
       "[<matplotlib.lines.Line2D at 0x11cb739d0>]"
      ]
     },
     "execution_count": 169,
     "metadata": {},
     "output_type": "execute_result"
    },
    {
     "data": {
      "image/png": "[encoded data removed]",
      "text/plain": [
       "<Figure size 432x288 with 1 Axes>"
      ]
     },
     "metadata": {
      "needs_background": "light"
     },
     "output_type": "display_data"
    }
   ],
   "source": [
    "RF = DataFile('Reference_sample/1.h5')\n",
    "DF = DataFile('BSM_toys/4.h5')\n",
    "Nexp = 2000.\n",
    "NRef = RF.Data.size()[0]\n",
    "print('\\nReference data lenght = ', NRef)\n",
    "TData, TLabels = TrainingDataSample(RF.Data, DF.Data)\n",
    "print('\\nTotal number of training points  = ', TData.size(0))\n",
    "MD = OurModel(AR = [1, 4, 1] )\n",
    "MD.double()\n",
    "MD.InitPreprocess(TData)\n",
    "MD.Report()\n",
    "MT = OurTrainer(Nexp/NRef,NumEpochs = 10000, LearningRate = 1e-3)\n",
    "epochprime, tprime = MT.Train(MD, TData, TLabels)\n",
    "plt.axis([0, 10000, 0, 20])\n",
    "plt.plot(epochprime,tprime)"
   ]
  },
  {
   "cell_type": "code",
   "execution_count": 170,
   "metadata": {},
   "outputs": [
    {
     "name": "stdout",
     "output_type": "stream",
     "text": [
      "\n",
      "Reading file ...Reference_sample/1.h5\n",
      "\n",
      "Reading file ...BSM_toys/4.h5\n",
      "\n",
      "Reference data lenght =  200000\n",
      "\n",
      "Total number of training points  =  201911\n",
      "\n",
      "Initializing Preprocesses Variables\n",
      "\n",
      "Model Report:\n",
      "Preprocess Initialized: True\n",
      "Architecture: [1, 4, 1]\n",
      "Activation: <built-in method relu of type object at 0x113236ad0>\n",
      "t = 13.28400440212047at epoch = 99998\r"
     ]
    },
    {
     "data": {
      "text/plain": [
       "[<matplotlib.lines.Line2D at 0x11d077190>]"
      ]
     },
     "execution_count": 170,
     "metadata": {},
     "output_type": "execute_result"
    },
    {
     "data": {
      "image/png": "[encoded data removed]",
      "text/plain": [
       "<Figure size 432x288 with 1 Axes>"
      ]
     },
     "metadata": {
      "needs_background": "light"
     },
     "output_type": "display_data"
    }
   ],
   "source": [
    "RF = DataFile('Reference_sample/1.h5')\n",
    "DF = DataFile('BSM_toys/4.h5')\n",
    "Nexp = 2000.\n",
    "NRef = RF.Data.size()[0]\n",
    "print('\\nReference data lenght = ', NRef)\n",
    "TData, TLabels = TrainingDataSample(RF.Data, DF.Data)\n",
    "print('\\nTotal number of training points  = ', TData.size(0))\n",
    "MD = OurModel(AR = [1, 4, 1] )\n",
    "MD.double()\n",
    "MD.InitPreprocess(TData)\n",
    "MD.Report()\n",
    "MT = OurTrainer(Nexp/NRef,NumEpochs = 10000, LearningRate = 1e-3)\n",
    "epochsecond, tsecond = MT.Train(MD, TData, TLabels)\n",
    "plt.axis([0, 10000, 0, 20])\n",
    "plt.plot(epochsecond,tsecond)"
   ]
  },
  {
   "cell_type": "code",
   "execution_count": 171,
   "metadata": {},
   "outputs": [
    {
     "name": "stdout",
     "output_type": "stream",
     "text": [
      "\n",
      "Reading file ...Reference_sample/1.h5\n",
      "\n",
      "Reading file ...BSM_toys/4.h5\n",
      "\n",
      "Reference data lenght =  200000\n",
      "\n",
      "Total number of training points  =  201911\n",
      "\n",
      "Initializing Preprocesses Variables\n",
      "\n",
      "Model Report:\n",
      "Preprocess Initialized: True\n",
      "Architecture: [1, 4, 1]\n",
      "Activation: <built-in method relu of type object at 0x113236ad0>\n",
      "t = 12.226420383320134at epoch = 99998\r"
     ]
    },
    {
     "data": {
      "text/plain": [
       "[<matplotlib.lines.Line2D at 0x11cb0e210>]"
      ]
     },
     "execution_count": 171,
     "metadata": {},
     "output_type": "execute_result"
    },
    {
     "data": {
      "image/png": "[encoded data removed]",
      "text/plain": [
       "<Figure size 432x288 with 1 Axes>"
      ]
     },
     "metadata": {
      "needs_background": "light"
     },
     "output_type": "display_data"
    }
   ],
   "source": [
    "RF = DataFile('Reference_sample/1.h5')\n",
    "DF = DataFile('BSM_toys/4.h5')\n",
    "Nexp = 2000.\n",
    "NRef = RF.Data.size()[0]\n",
    "print('\\nReference data lenght = ', NRef)\n",
    "TData, TLabels = TrainingDataSample(RF.Data, DF.Data)\n",
    "print('\\nTotal number of training points  = ', TData.size(0))\n",
    "MD = OurModel(AR = [1, 4, 1] )\n",
    "MD.double()\n",
    "MD.InitPreprocess(TData)\n",
    "MD.Report()\n",
    "MT = OurTrainer(Nexp/NRef,NumEpochs = 10000, LearningRate = 1e-3)\n",
    "epochthird, tthird = MT.Train(MD, TData, TLabels)\n",
    "plt.axis([0, 10000, 0, 20])\n",
    "plt.plot(epochthird,tthird)"
   ]
  },
  {
   "cell_type": "code",
   "execution_count": 172,
   "metadata": {},
   "outputs": [
    {
     "name": "stdout",
     "output_type": "stream",
     "text": [
      "\n",
      "Reading file ...Reference_sample/1.h5\n",
      "\n",
      "Reading file ...BSM_toys/4.h5\n",
      "\n",
      "Reference data lenght =  200000\n",
      "\n",
      "Total number of training points  =  201911\n",
      "\n",
      "Initializing Preprocesses Variables\n",
      "\n",
      "Model Report:\n",
      "Preprocess Initialized: True\n",
      "Architecture: [1, 4, 1]\n",
      "Activation: <built-in method relu of type object at 0x113236ad0>\n",
      "t = 5.5778911008505805at epoch = 9999934\r"
     ]
    },
    {
     "data": {
      "text/plain": [
       "[<matplotlib.lines.Line2D at 0x11edc9650>]"
      ]
     },
     "execution_count": 172,
     "metadata": {},
     "output_type": "execute_result"
    },
    {
     "data": {
      "image/png": "[encoded data removed]",
      "text/plain": [
       "<Figure size 432x288 with 1 Axes>"
      ]
     },
     "metadata": {
      "needs_background": "light"
     },
     "output_type": "display_data"
    }
   ],
   "source": [
    "RF = DataFile('Reference_sample/1.h5')\n",
    "DF = DataFile('BSM_toys/4.h5')\n",
    "Nexp = 2000.\n",
    "NRef = RF.Data.size()[0]\n",
    "print('\\nReference data lenght = ', NRef)\n",
    "TData, TLabels = TrainingDataSample(RF.Data, DF.Data)\n",
    "print('\\nTotal number of training points  = ', TData.size(0))\n",
    "MD = OurModel(AR = [1, 4, 1] )\n",
    "MD.double()\n",
    "MD.InitPreprocess(TData)\n",
    "MD.Report()\n",
    "MT = OurTrainer(Nexp/NRef,NumEpochs = 10000, LearningRate = 1e-3)\n",
    "epoch4, t4 = MT.Train(MD, TData, TLabels)\n",
    "plt.axis([0, 10000, 0, 20])\n",
    "plt.plot(epoch4,t4)"
   ]
  },
  {
   "cell_type": "code",
   "execution_count": 173,
   "metadata": {},
   "outputs": [
    {
     "name": "stdout",
     "output_type": "stream",
     "text": [
      "\n",
      "Reading file ...Reference_sample/1.h5\n",
      "\n",
      "Reading file ...BSM_toys/4.h5\n",
      "\n",
      "Reference data lenght =  200000\n",
      "\n",
      "Total number of training points  =  201911\n",
      "\n",
      "Initializing Preprocesses Variables\n",
      "\n",
      "Model Report:\n",
      "Preprocess Initialized: True\n",
      "Architecture: [1, 4, 1]\n",
      "Activation: <built-in method relu of type object at 0x113236ad0>\n",
      "t = 14.737920095730313at epoch = 999942\r"
     ]
    },
    {
     "data": {
      "text/plain": [
       "[<matplotlib.lines.Line2D at 0x11d22ca50>]"
      ]
     },
     "execution_count": 173,
     "metadata": {},
     "output_type": "execute_result"
    },
    {
     "data": {
      "image/png": "[encoded data removed]",
      "text/plain": [
       "<Figure size 432x288 with 1 Axes>"
      ]
     },
     "metadata": {
      "needs_background": "light"
     },
     "output_type": "display_data"
    }
   ],
   "source": [
    "RF = DataFile('Reference_sample/1.h5')\n",
    "DF = DataFile('BSM_toys/4.h5')\n",
    "Nexp = 2000.\n",
    "NRef = RF.Data.size()[0]\n",
    "print('\\nReference data lenght = ', NRef)\n",
    "TData, TLabels = TrainingDataSample(RF.Data, DF.Data)\n",
    "print('\\nTotal number of training points  = ', TData.size(0))\n",
    "MD = OurModel(AR = [1, 4, 1] )\n",
    "MD.double()\n",
    "MD.InitPreprocess(TData)\n",
    "MD.Report()\n",
    "MT = OurTrainer(Nexp/NRef,NumEpochs = 10000, LearningRate = 1e-3)\n",
    "epoch5, t5 = MT.Train(MD, TData, TLabels)\n",
    "plt.axis([0, 10000, 0, 20])\n",
    "plt.plot(epoch5,t5)"
   ]
  },
  {
   "cell_type": "code",
   "execution_count": 174,
   "metadata": {},
   "outputs": [
    {
     "name": "stdout",
     "output_type": "stream",
     "text": [
      "\n",
      "Reading file ...Reference_sample/1.h5\n",
      "\n",
      "Reading file ...BSM_toys/4.h5\n",
      "\n",
      "Reference data lenght =  200000\n",
      "\n",
      "Total number of training points  =  201911\n",
      "\n",
      "Initializing Preprocesses Variables\n",
      "\n",
      "Model Report:\n",
      "Preprocess Initialized: True\n",
      "Architecture: [1, 4, 1]\n",
      "Activation: <built-in method relu of type object at 0x113236ad0>\n",
      "t = 4.1959219924820665at epoch = 999993\r"
     ]
    },
    {
     "data": {
      "text/plain": [
       "[<matplotlib.lines.Line2D at 0x11cb97310>]"
      ]
     },
     "execution_count": 174,
     "metadata": {},
     "output_type": "execute_result"
    },
    {
     "data": {
      "image/png": "[encoded data removed]",
      "text/plain": [
       "<Figure size 432x288 with 1 Axes>"
      ]
     },
     "metadata": {
      "needs_background": "light"
     },
     "output_type": "display_data"
    }
   ],
   "source": [
    "RF = DataFile('Reference_sample/1.h5')\n",
    "DF = DataFile('BSM_toys/4.h5')\n",
    "Nexp = 2000.\n",
    "NRef = RF.Data.size()[0]\n",
    "print('\\nReference data lenght = ', NRef)\n",
    "TData, TLabels = TrainingDataSample(RF.Data, DF.Data)\n",
    "print('\\nTotal number of training points  = ', TData.size(0))\n",
    "MD = OurModel(AR = [1, 4, 1] )\n",
    "MD.double()\n",
    "MD.InitPreprocess(TData)\n",
    "MD.Report()\n",
    "MT = OurTrainer(Nexp/NRef,NumEpochs = 10000, LearningRate = 1e-3)\n",
    "epoch6, t6 = MT.Train(MD, TData, TLabels)\n",
    "plt.axis([0, 10000, 0, 20])\n",
    "plt.plot(epoch6,t6)"
   ]
  },
  {
   "cell_type": "code",
   "execution_count": 175,
   "metadata": {},
   "outputs": [
    {
     "name": "stdout",
     "output_type": "stream",
     "text": [
      "\n",
      "Reading file ...Reference_sample/1.h5\n",
      "\n",
      "Reading file ...BSM_toys/4.h5\n",
      "\n",
      "Reference data lenght =  200000\n",
      "\n",
      "Total number of training points  =  201911\n",
      "\n",
      "Initializing Preprocesses Variables\n",
      "\n",
      "Model Report:\n",
      "Preprocess Initialized: True\n",
      "Architecture: [1, 4, 1]\n",
      "Activation: <built-in method relu of type object at 0x113236ad0>\n",
      "t = 12.601518178439196at epoch = 99996\r"
     ]
    },
    {
     "data": {
      "text/plain": [
       "[<matplotlib.lines.Line2D at 0x11fbe1550>]"
      ]
     },
     "execution_count": 175,
     "metadata": {},
     "output_type": "execute_result"
    },
    {
     "data": {
      "image/png": "[encoded data removed]",
      "text/plain": [
       "<Figure size 432x288 with 1 Axes>"
      ]
     },
     "metadata": {
      "needs_background": "light"
     },
     "output_type": "display_data"
    }
   ],
   "source": [
    "RF = DataFile('Reference_sample/1.h5')\n",
    "DF = DataFile('BSM_toys/4.h5')\n",
    "Nexp = 2000.\n",
    "NRef = RF.Data.size()[0]\n",
    "print('\\nReference data lenght = ', NRef)\n",
    "TData, TLabels = TrainingDataSample(RF.Data, DF.Data)\n",
    "print('\\nTotal number of training points  = ', TData.size(0))\n",
    "MD = OurModel(AR = [1, 4, 1] )\n",
    "MD.double()\n",
    "MD.InitPreprocess(TData)\n",
    "MD.Report()\n",
    "MT = OurTrainer(Nexp/NRef,NumEpochs = 10000, LearningRate = 1e-3)\n",
    "epoch8, t8 = MT.Train(MD, TData, TLabels)\n",
    "plt.axis([0, 10000, 0, 20])\n",
    "plt.plot(epoch8,t8)"
   ]
  },
  {
   "cell_type": "code",
   "execution_count": 70,
   "metadata": {},
   "outputs": [
    {
     "name": "stdout",
     "output_type": "stream",
     "text": [
      "\n",
      "Model Report:\n",
      "Preprocess Initialized: False\n",
      "Architecture: [1, 3, 3, 1]\n",
      "Loss Function: Quadratic\n",
      "Activation: <built-in method relu of type object at 0x113236ad0>\n",
      "\n",
      "Initializing Preprocesses Variables\n"
     ]
    }
   ],
   "source": [
    "MD = OurModel()\n",
    "MD.double()\n",
    "MD.Report()\n",
    "MD.InitPreprocess(DF.Data)\n",
    "MT = OurTrainer(ExpRoverRsize = 2000./RF.Data.size()[0])\n"
   ]
  },
  {
   "cell_type": "code",
   "execution_count": 142,
   "metadata": {},
   "outputs": [
    {
     "data": {
      "text/plain": [
       "[<matplotlib.lines.Line2D at 0x11c29fa10>]"
      ]
     },
     "execution_count": 142,
     "metadata": {},
     "output_type": "execute_result"
    },
    {
     "data": {
      "image/png": "[encoded data removed]",
      "text/plain": [
       "<Figure size 432x288 with 1 Axes>"
      ]
     },
     "metadata": {
      "needs_background": "light"
     },
     "output_type": "display_data"
    }
   ],
   "source": [
    "plt.plot([0,1,3],[1,2,2])"
   ]
  },
  {
   "cell_type": "code",
   "execution_count": 102,
   "metadata": {},
   "outputs": [
    {
     "name": "stdout",
     "output_type": "stream",
     "text": [
      "Number of processors:  4\n"
     ]
    }
   ],
   "source": [
    "import multiprocessing as mp\n",
    "print(\"Number of processors: \", mp.cpu_count())"
   ]
  },
  {
   "cell_type": "code",
   "execution_count": null,
   "metadata": {},
   "outputs": [],
   "source": []
  }
 ],
 "metadata": {
  "kernelspec": {
   "display_name": "Python 3",
   "language": "python",
   "name": "python3"
  },
  "language_info": {
   "codemirror_mode": {
    "name": "ipython",
    "version": 3
   },
   "file_extension": ".py",
   "mimetype": "text/x-python",
   "name": "python",
   "nbconvert_exporter": "python",
   "pygments_lexer": "ipython3",
   "version": "3.7.6"
  }
 },
 "nbformat": 4,
 "nbformat_minor": 4
}
